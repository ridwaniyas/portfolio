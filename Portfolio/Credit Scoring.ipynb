{
 "cells": [
  {
   "cell_type": "code",
   "execution_count": null,
   "metadata": {
    "colab": {
     "base_uri": "https://localhost:8080/"
    },
    "id": "NjXYqS43ojZs",
    "outputId": "d8822621-c37a-46ee-b59b-c1b28a12deb1"
   },
   "outputs": [
    {
     "name": "stdout",
     "output_type": "stream",
     "text": [
      "Mounted at /content/drive\n"
     ]
    }
   ],
   "source": [
    "from google.colab import drive\n",
    "drive.mount('/content/drive')"
   ]
  },
  {
   "cell_type": "code",
   "execution_count": null,
   "metadata": {
    "id": "1UPGlHjzpKjL"
   },
   "outputs": [],
   "source": [
    "cd '/content/drive/My Drive'"
   ]
  },
  {
   "cell_type": "code",
   "execution_count": null,
   "metadata": {
    "id": "iPuOEwLYGOx5"
   },
   "outputs": [],
   "source": [
    "import pandas as pd\n",
    "import numpy as np\n",
    "import matplotlib.pyplot as plt\n",
    "from datetime import date\n",
    "import seaborn as sns\n",
    "\n",
    "pd.set_option('display.max_colwidth', None)\n",
    "%matplotlib inline\n",
    "\n",
    "from sklearn.ensemble import RandomForestClassifier\n",
    "from sklearn.metrics import accuracy_score, classification_report, mean_squared_error, r2_score\n",
    "from sklearn.model_selection import train_test_split, RepeatedKFold, cross_val_score, GridSearchCV\n",
    "from sklearn.pipeline import make_pipeline, Pipeline\n",
    "\n",
    "from xgboost import XGBClassifier\n",
    "from lightgbm import LGBMClassifier\n",
    "from functools import reduce\n",
    "from sklearn.metrics import accuracy_score, recall_score, precision_score, f1_score, roc_auc_score\n",
    "from sklearn.model_selection import KFold"
   ]
  },
  {
   "cell_type": "code",
   "execution_count": null,
   "metadata": {
    "id": "uBoDHGOAGO0e"
   },
   "outputs": [],
   "source": []
  },
  {
   "cell_type": "markdown",
   "metadata": {
    "id": "9HUQeI558lPf"
   },
   "source": [
    "**Credit Scoring**\n",
    "<br>\n",
    "https://www.kaggle.com/c/GiveMeSomeCredit"
   ]
  },
  {
   "cell_type": "code",
   "execution_count": null,
   "metadata": {
    "colab": {
     "base_uri": "https://localhost:8080/",
     "height": 241
    },
    "id": "kFT073gmGO3I",
    "outputId": "c34f1df9-82e3-4823-e9a7-9f6dd167ae83"
   },
   "outputs": [
    {
     "data": {
      "text/html": [
       "<div>\n",
       "<style scoped>\n",
       "    .dataframe tbody tr th:only-of-type {\n",
       "        vertical-align: middle;\n",
       "    }\n",
       "\n",
       "    .dataframe tbody tr th {\n",
       "        vertical-align: top;\n",
       "    }\n",
       "\n",
       "    .dataframe thead th {\n",
       "        text-align: right;\n",
       "    }\n",
       "</style>\n",
       "<table border=\"1\" class=\"dataframe\">\n",
       "  <thead>\n",
       "    <tr style=\"text-align: right;\">\n",
       "      <th></th>\n",
       "      <th>serious_delinquency</th>\n",
       "      <th>age</th>\n",
       "      <th>num_of_dependents</th>\n",
       "      <th>monthly_income</th>\n",
       "      <th>RUUL</th>\n",
       "      <th>debt_ratio</th>\n",
       "      <th>num_of_open_loans</th>\n",
       "      <th>num_of_real_estate_loans</th>\n",
       "      <th>late_30-59_days</th>\n",
       "      <th>late_60-89_days</th>\n",
       "      <th>late_90_days</th>\n",
       "    </tr>\n",
       "  </thead>\n",
       "  <tbody>\n",
       "    <tr>\n",
       "      <th>1</th>\n",
       "      <td>1</td>\n",
       "      <td>45</td>\n",
       "      <td>2.0</td>\n",
       "      <td>9120.0</td>\n",
       "      <td>0.766127</td>\n",
       "      <td>0.802982</td>\n",
       "      <td>13</td>\n",
       "      <td>6</td>\n",
       "      <td>2</td>\n",
       "      <td>0</td>\n",
       "      <td>0</td>\n",
       "    </tr>\n",
       "    <tr>\n",
       "      <th>2</th>\n",
       "      <td>0</td>\n",
       "      <td>40</td>\n",
       "      <td>1.0</td>\n",
       "      <td>2600.0</td>\n",
       "      <td>0.957151</td>\n",
       "      <td>0.121876</td>\n",
       "      <td>4</td>\n",
       "      <td>0</td>\n",
       "      <td>0</td>\n",
       "      <td>0</td>\n",
       "      <td>0</td>\n",
       "    </tr>\n",
       "    <tr>\n",
       "      <th>3</th>\n",
       "      <td>0</td>\n",
       "      <td>38</td>\n",
       "      <td>0.0</td>\n",
       "      <td>3042.0</td>\n",
       "      <td>0.658180</td>\n",
       "      <td>0.085113</td>\n",
       "      <td>2</td>\n",
       "      <td>0</td>\n",
       "      <td>1</td>\n",
       "      <td>0</td>\n",
       "      <td>1</td>\n",
       "    </tr>\n",
       "    <tr>\n",
       "      <th>4</th>\n",
       "      <td>0</td>\n",
       "      <td>30</td>\n",
       "      <td>0.0</td>\n",
       "      <td>3300.0</td>\n",
       "      <td>0.233810</td>\n",
       "      <td>0.036050</td>\n",
       "      <td>5</td>\n",
       "      <td>0</td>\n",
       "      <td>0</td>\n",
       "      <td>0</td>\n",
       "      <td>0</td>\n",
       "    </tr>\n",
       "    <tr>\n",
       "      <th>5</th>\n",
       "      <td>0</td>\n",
       "      <td>49</td>\n",
       "      <td>0.0</td>\n",
       "      <td>63588.0</td>\n",
       "      <td>0.907239</td>\n",
       "      <td>0.024926</td>\n",
       "      <td>7</td>\n",
       "      <td>1</td>\n",
       "      <td>1</td>\n",
       "      <td>0</td>\n",
       "      <td>0</td>\n",
       "    </tr>\n",
       "  </tbody>\n",
       "</table>\n",
       "</div>"
      ],
      "text/plain": [
       "   serious_delinquency  age  ...  late_60-89_days  late_90_days\n",
       "1                    1   45  ...                0             0\n",
       "2                    0   40  ...                0             0\n",
       "3                    0   38  ...                0             1\n",
       "4                    0   30  ...                0             0\n",
       "5                    0   49  ...                0             0\n",
       "\n",
       "[5 rows x 11 columns]"
      ]
     },
     "execution_count": 4,
     "metadata": {
      "tags": []
     },
     "output_type": "execute_result"
    }
   ],
   "source": [
    "df = pd.read_csv('GiveMeSomeCredit/cs-training.csv', index_col=0)\n",
    "df.head()"
   ]
  },
  {
   "cell_type": "code",
   "execution_count": null,
   "metadata": {
    "colab": {
     "base_uri": "https://localhost:8080/"
    },
    "id": "TkcoBUXVi9oL",
    "outputId": "ed2fb479-0540-4ebe-a31d-1a5c94293efc"
   },
   "outputs": [
    {
     "name": "stdout",
     "output_type": "stream",
     "text": [
      "<class 'pandas.core.frame.DataFrame'>\n",
      "Int64Index: 150000 entries, 1 to 150000\n",
      "Data columns (total 11 columns):\n",
      " #   Column                    Non-Null Count   Dtype  \n",
      "---  ------                    --------------   -----  \n",
      " 0   serious_delinquency       150000 non-null  int64  \n",
      " 1   age                       150000 non-null  int64  \n",
      " 2   num_of_dependents         146076 non-null  float64\n",
      " 3   monthly_income            120269 non-null  float64\n",
      " 4   RUUL                      150000 non-null  float64\n",
      " 5   debt_ratio                150000 non-null  float64\n",
      " 6   num_of_open_loans         150000 non-null  int64  \n",
      " 7   num_of_real_estate_loans  150000 non-null  int64  \n",
      " 8   late_30-59_days           150000 non-null  int64  \n",
      " 9   late_60-89_days           150000 non-null  int64  \n",
      " 10  late_90_days              150000 non-null  int64  \n",
      "dtypes: float64(4), int64(7)\n",
      "memory usage: 13.7 MB\n"
     ]
    }
   ],
   "source": [
    "df.info()"
   ]
  },
  {
   "cell_type": "code",
   "execution_count": null,
   "metadata": {
    "colab": {
     "base_uri": "https://localhost:8080/",
     "height": 560
    },
    "id": "1_B-7SLVGO51",
    "outputId": "31730e8d-cff5-4a45-8d7c-9a11860d13c2"
   },
   "outputs": [
    {
     "data": {
      "text/html": [
       "<div>\n",
       "<style scoped>\n",
       "    .dataframe tbody tr th:only-of-type {\n",
       "        vertical-align: middle;\n",
       "    }\n",
       "\n",
       "    .dataframe tbody tr th {\n",
       "        vertical-align: top;\n",
       "    }\n",
       "\n",
       "    .dataframe thead th {\n",
       "        text-align: right;\n",
       "    }\n",
       "</style>\n",
       "<table border=\"1\" class=\"dataframe\">\n",
       "  <thead>\n",
       "    <tr style=\"text-align: right;\">\n",
       "      <th></th>\n",
       "      <th>Variable Name</th>\n",
       "      <th>Description</th>\n",
       "      <th>Deskripsi</th>\n",
       "      <th>Type</th>\n",
       "    </tr>\n",
       "  </thead>\n",
       "  <tbody>\n",
       "    <tr>\n",
       "      <th>0</th>\n",
       "      <td>serious_delinquency</td>\n",
       "      <td>Person experienced 90 days past due delinquency or worse</td>\n",
       "      <td>Orang yg mengalami pelanggaran 90 hari lewat jatuh tempo atau lebih buruk</td>\n",
       "      <td>Y/N</td>\n",
       "    </tr>\n",
       "    <tr>\n",
       "      <th>1</th>\n",
       "      <td>age</td>\n",
       "      <td>Age of borrower in years</td>\n",
       "      <td>Usia peminjam dalam tahun</td>\n",
       "      <td>integer</td>\n",
       "    </tr>\n",
       "    <tr>\n",
       "      <th>2</th>\n",
       "      <td>num_of_dependents</td>\n",
       "      <td>Number of dependents in family excluding themselves (spouse, children etc.)</td>\n",
       "      <td>Jumlah tanggungan dalam keluarga tidak termasuk diri mereka sendiri (pasangan, anak, dll.)</td>\n",
       "      <td>integer</td>\n",
       "    </tr>\n",
       "    <tr>\n",
       "      <th>3</th>\n",
       "      <td>monthly_income</td>\n",
       "      <td>Monthly income</td>\n",
       "      <td>Pendapatan bulanan</td>\n",
       "      <td>real</td>\n",
       "    </tr>\n",
       "    <tr>\n",
       "      <th>4</th>\n",
       "      <td>RUUL</td>\n",
       "      <td>Total balance on credit cards and personal lines of credit except real estate and no installment debt like car loans divided by the sum of credit limits (Revolving Utilization of Unsecured Lines)</td>\n",
       "      <td>Saldo total pada kartu kredit kecuali real estate dan tidak ada hutang angsuran seperti pinjaman mobil, dibagi dengan jumlah batas kredit</td>\n",
       "      <td>percentage</td>\n",
       "    </tr>\n",
       "    <tr>\n",
       "      <th>5</th>\n",
       "      <td>debt_ratio</td>\n",
       "      <td>Monthly debt payments, alimony, living costs divided by monthy gross income</td>\n",
       "      <td>Pembayaran hutang bulanan, tunjangan, biaya hidup, dibagi dengan pendapatan kotor bulanan</td>\n",
       "      <td>percentage</td>\n",
       "    </tr>\n",
       "    <tr>\n",
       "      <th>6</th>\n",
       "      <td>num_of_open_loans</td>\n",
       "      <td>Number of Open loans (installment like car loan or mortgage) and Lines of credit (e.g. credit cards)</td>\n",
       "      <td>Jumlah Pinjaman Terbuka (cicilan seperti pinjaman mobil atau hipotek) dan Garis kredit (misalnya kartu kredit)</td>\n",
       "      <td>integer</td>\n",
       "    </tr>\n",
       "    <tr>\n",
       "      <th>7</th>\n",
       "      <td>num_of_real_estate_loans</td>\n",
       "      <td>Number of mortgage and real estate loans including home equity lines of credit</td>\n",
       "      <td>Jumlah pinjaman hipotek dan real estate termasuk jalur kredit ekuitas rumah</td>\n",
       "      <td>integer</td>\n",
       "    </tr>\n",
       "    <tr>\n",
       "      <th>8</th>\n",
       "      <td>late_30-59_days</td>\n",
       "      <td>Number of times borrower has been 30-59 days past due but no worse in the last 2 years.</td>\n",
       "      <td>Berapa kali peminjam telah lewat jatuh tempo 30-59 hari dalam 2 tahun terakhir.</td>\n",
       "      <td>integer</td>\n",
       "    </tr>\n",
       "    <tr>\n",
       "      <th>9</th>\n",
       "      <td>late_60-89_days</td>\n",
       "      <td>Number of times borrower has been 60-89 days past due but no worse in the last 2 years.</td>\n",
       "      <td>Berapa kali peminjam telah lewat jatuh tempo 60-89 hari dalam 2 tahun terakhir.</td>\n",
       "      <td>integer</td>\n",
       "    </tr>\n",
       "    <tr>\n",
       "      <th>10</th>\n",
       "      <td>late_90_days</td>\n",
       "      <td>Number of times borrower has been 90 days or more past due.</td>\n",
       "      <td>Berapa kali peminjam telah lewat jatuh tempo 90 hari atau lebih.</td>\n",
       "      <td>integer</td>\n",
       "    </tr>\n",
       "  </tbody>\n",
       "</table>\n",
       "</div>"
      ],
      "text/plain": [
       "               Variable Name  ...        Type\n",
       "0        serious_delinquency  ...         Y/N\n",
       "1                        age  ...     integer\n",
       "2          num_of_dependents  ...     integer\n",
       "3             monthly_income  ...        real\n",
       "4                       RUUL  ...  percentage\n",
       "5                 debt_ratio  ...  percentage\n",
       "6          num_of_open_loans  ...     integer\n",
       "7   num_of_real_estate_loans  ...     integer\n",
       "8            late_30-59_days  ...     integer\n",
       "9            late_60-89_days  ...     integer\n",
       "10              late_90_days  ...     integer\n",
       "\n",
       "[11 rows x 4 columns]"
      ]
     },
     "execution_count": 6,
     "metadata": {
      "tags": []
     },
     "output_type": "execute_result"
    }
   ],
   "source": [
    "data_dict = pd.read_excel('GiveMeSomeCredit/Data Dictionary.xlsx')\n",
    "data_dict"
   ]
  },
  {
   "cell_type": "markdown",
   "metadata": {
    "id": "ca4-7gmlzm82"
   },
   "source": [
    "Dataset memiliki 11 kolom, dengan tujuan membuat model Machine Learning untuk tugas klasifikasi terhadap kolom `serious_delinquency`. \n",
    "<br>\n",
    "Kolom `serious_delinquency` merupakan kolom kategori yang menginformasikan orang-orang yang memiliki riwayat melakukan pelanggaran berupa keterlambatan pembayaran kredit melebihi 90 hari dari waktu jatuh tempo.\n",
    "<br>\n",
    "Orang yang memiliki nilai **0** pada `serious_delinquency` berarti tidak memiliki riwayat pelanggaran (*credit score* dengan kualitas **baik**), dan orang yang memiliki nilai **1** pada `serious_delinquency` berarti memiliki riwayat pelanggaran (*credit score* dengan kualitas **buruk**)\n",
    "\n"
   ]
  },
  {
   "cell_type": "code",
   "execution_count": null,
   "metadata": {
    "id": "Ned00iTui9ua"
   },
   "outputs": [],
   "source": []
  },
  {
   "cell_type": "markdown",
   "metadata": {
    "id": "y3flMrlsEH7I"
   },
   "source": [
    "**Debt Ratio**"
   ]
  },
  {
   "cell_type": "code",
   "execution_count": null,
   "metadata": {
    "colab": {
     "base_uri": "https://localhost:8080/"
    },
    "id": "h4gcnRs6Dj-r",
    "outputId": "7d290b01-2ab1-4a9d-c03e-3b845b6bc52b"
   },
   "outputs": [
    {
     "data": {
      "text/plain": [
       "count    150000.000000\n",
       "mean        353.005076\n",
       "std        2037.818523\n",
       "min           0.000000\n",
       "25%           0.175074\n",
       "50%           0.366508\n",
       "75%           0.868254\n",
       "max      329664.000000\n",
       "Name: debt_ratio, dtype: float64"
      ]
     },
     "execution_count": 7,
     "metadata": {
      "tags": []
     },
     "output_type": "execute_result"
    }
   ],
   "source": [
    "df['debt_ratio'].describe()"
   ]
  },
  {
   "cell_type": "code",
   "execution_count": null,
   "metadata": {
    "colab": {
     "base_uri": "https://localhost:8080/"
    },
    "id": "sX-mYZT8DkBY",
    "outputId": "27406428-ec0c-476d-b316-cea1ba737dbf"
   },
   "outputs": [
    {
     "data": {
      "text/plain": [
       "2449.0"
      ]
     },
     "execution_count": 8,
     "metadata": {
      "tags": []
     },
     "output_type": "execute_result"
    }
   ],
   "source": [
    "df['debt_ratio'].quantile(0.95)"
   ]
  },
  {
   "cell_type": "markdown",
   "metadata": {
    "id": "eLQa3VwKFkze"
   },
   "source": [
    "Terdapat sejumlah 5% orang yg memiliki rasio hutang >2449 kali lipat, dan bahkan rasio hutang ada yg mencapai 329.664 kali lipat dari apa yg dia punya."
   ]
  },
  {
   "cell_type": "code",
   "execution_count": null,
   "metadata": {
    "colab": {
     "base_uri": "https://localhost:8080/",
     "height": 297
    },
    "id": "u-X8FUPhLIl_",
    "outputId": "636e08d7-3ea1-4968-817b-07f2b79ff498"
   },
   "outputs": [
    {
     "data": {
      "text/html": [
       "<div>\n",
       "<style scoped>\n",
       "    .dataframe tbody tr th:only-of-type {\n",
       "        vertical-align: middle;\n",
       "    }\n",
       "\n",
       "    .dataframe tbody tr th {\n",
       "        vertical-align: top;\n",
       "    }\n",
       "\n",
       "    .dataframe thead th {\n",
       "        text-align: right;\n",
       "    }\n",
       "</style>\n",
       "<table border=\"1\" class=\"dataframe\">\n",
       "  <thead>\n",
       "    <tr style=\"text-align: right;\">\n",
       "      <th></th>\n",
       "      <th>serious_delinquency</th>\n",
       "      <th>monthly_income</th>\n",
       "    </tr>\n",
       "  </thead>\n",
       "  <tbody>\n",
       "    <tr>\n",
       "      <th>count</th>\n",
       "      <td>7494.000000</td>\n",
       "      <td>379.000000</td>\n",
       "    </tr>\n",
       "    <tr>\n",
       "      <th>mean</th>\n",
       "      <td>0.055111</td>\n",
       "      <td>0.084433</td>\n",
       "    </tr>\n",
       "    <tr>\n",
       "      <th>std</th>\n",
       "      <td>0.228212</td>\n",
       "      <td>0.278403</td>\n",
       "    </tr>\n",
       "    <tr>\n",
       "      <th>min</th>\n",
       "      <td>0.000000</td>\n",
       "      <td>0.000000</td>\n",
       "    </tr>\n",
       "    <tr>\n",
       "      <th>25%</th>\n",
       "      <td>0.000000</td>\n",
       "      <td>0.000000</td>\n",
       "    </tr>\n",
       "    <tr>\n",
       "      <th>50%</th>\n",
       "      <td>0.000000</td>\n",
       "      <td>0.000000</td>\n",
       "    </tr>\n",
       "    <tr>\n",
       "      <th>75%</th>\n",
       "      <td>0.000000</td>\n",
       "      <td>0.000000</td>\n",
       "    </tr>\n",
       "    <tr>\n",
       "      <th>max</th>\n",
       "      <td>1.000000</td>\n",
       "      <td>1.000000</td>\n",
       "    </tr>\n",
       "  </tbody>\n",
       "</table>\n",
       "</div>"
      ],
      "text/plain": [
       "       serious_delinquency  monthly_income\n",
       "count          7494.000000      379.000000\n",
       "mean              0.055111        0.084433\n",
       "std               0.228212        0.278403\n",
       "min               0.000000        0.000000\n",
       "25%               0.000000        0.000000\n",
       "50%               0.000000        0.000000\n",
       "75%               0.000000        0.000000\n",
       "max               1.000000        1.000000"
      ]
     },
     "execution_count": 9,
     "metadata": {
      "tags": []
     },
     "output_type": "execute_result"
    }
   ],
   "source": [
    "df[df['debt_ratio'] > df['debt_ratio'].quantile(0.95)][['serious_delinquency','monthly_income']].describe()"
   ]
  },
  {
   "cell_type": "markdown",
   "metadata": {
    "id": "dKQvtDzoMtGa"
   },
   "source": [
    "Dari 7494 records pada debt ratio > 2449 kali, hanya 379 orang yg memiliki nilai monthly income."
   ]
  },
  {
   "cell_type": "code",
   "execution_count": null,
   "metadata": {
    "colab": {
     "base_uri": "https://localhost:8080/",
     "height": 456
    },
    "id": "wrgEKVlZMOyP",
    "outputId": "cf51b5d6-e6b5-4584-fcf7-2f07a988a992"
   },
   "outputs": [
    {
     "data": {
      "text/html": [
       "<div>\n",
       "<style scoped>\n",
       "    .dataframe tbody tr th:only-of-type {\n",
       "        vertical-align: middle;\n",
       "    }\n",
       "\n",
       "    .dataframe tbody tr th {\n",
       "        vertical-align: top;\n",
       "    }\n",
       "\n",
       "    .dataframe thead th {\n",
       "        text-align: right;\n",
       "    }\n",
       "</style>\n",
       "<table border=\"1\" class=\"dataframe\">\n",
       "  <thead>\n",
       "    <tr style=\"text-align: right;\">\n",
       "      <th></th>\n",
       "      <th>serious_delinquency</th>\n",
       "      <th>age</th>\n",
       "      <th>num_of_dependents</th>\n",
       "      <th>monthly_income</th>\n",
       "      <th>RUUL</th>\n",
       "      <th>debt_ratio</th>\n",
       "      <th>num_of_open_loans</th>\n",
       "      <th>num_of_real_estate_loans</th>\n",
       "      <th>late_30-59_days</th>\n",
       "      <th>late_60-89_days</th>\n",
       "      <th>late_90_days</th>\n",
       "    </tr>\n",
       "  </thead>\n",
       "  <tbody>\n",
       "    <tr>\n",
       "      <th>51</th>\n",
       "      <td>0</td>\n",
       "      <td>73</td>\n",
       "      <td>0.0</td>\n",
       "      <td>0.0</td>\n",
       "      <td>0.818978</td>\n",
       "      <td>3095.0</td>\n",
       "      <td>9</td>\n",
       "      <td>1</td>\n",
       "      <td>0</td>\n",
       "      <td>1</td>\n",
       "      <td>0</td>\n",
       "    </tr>\n",
       "    <tr>\n",
       "      <th>74</th>\n",
       "      <td>0</td>\n",
       "      <td>31</td>\n",
       "      <td>1.0</td>\n",
       "      <td>0.0</td>\n",
       "      <td>0.059669</td>\n",
       "      <td>3162.0</td>\n",
       "      <td>11</td>\n",
       "      <td>2</td>\n",
       "      <td>0</td>\n",
       "      <td>0</td>\n",
       "      <td>0</td>\n",
       "    </tr>\n",
       "    <tr>\n",
       "      <th>91</th>\n",
       "      <td>0</td>\n",
       "      <td>51</td>\n",
       "      <td>0.0</td>\n",
       "      <td>0.0</td>\n",
       "      <td>0.039388</td>\n",
       "      <td>15466.0</td>\n",
       "      <td>7</td>\n",
       "      <td>0</td>\n",
       "      <td>0</td>\n",
       "      <td>0</td>\n",
       "      <td>0</td>\n",
       "    </tr>\n",
       "    <tr>\n",
       "      <th>327</th>\n",
       "      <td>0</td>\n",
       "      <td>43</td>\n",
       "      <td>2.0</td>\n",
       "      <td>0.0</td>\n",
       "      <td>0.013115</td>\n",
       "      <td>4211.0</td>\n",
       "      <td>21</td>\n",
       "      <td>2</td>\n",
       "      <td>0</td>\n",
       "      <td>0</td>\n",
       "      <td>0</td>\n",
       "    </tr>\n",
       "    <tr>\n",
       "      <th>509</th>\n",
       "      <td>0</td>\n",
       "      <td>73</td>\n",
       "      <td>0.0</td>\n",
       "      <td>0.0</td>\n",
       "      <td>1.000000</td>\n",
       "      <td>8500.0</td>\n",
       "      <td>2</td>\n",
       "      <td>0</td>\n",
       "      <td>0</td>\n",
       "      <td>0</td>\n",
       "      <td>0</td>\n",
       "    </tr>\n",
       "    <tr>\n",
       "      <th>...</th>\n",
       "      <td>...</td>\n",
       "      <td>...</td>\n",
       "      <td>...</td>\n",
       "      <td>...</td>\n",
       "      <td>...</td>\n",
       "      <td>...</td>\n",
       "      <td>...</td>\n",
       "      <td>...</td>\n",
       "      <td>...</td>\n",
       "      <td>...</td>\n",
       "      <td>...</td>\n",
       "    </tr>\n",
       "    <tr>\n",
       "      <th>147524</th>\n",
       "      <td>0</td>\n",
       "      <td>50</td>\n",
       "      <td>2.0</td>\n",
       "      <td>0.0</td>\n",
       "      <td>0.666509</td>\n",
       "      <td>4351.0</td>\n",
       "      <td>12</td>\n",
       "      <td>2</td>\n",
       "      <td>0</td>\n",
       "      <td>0</td>\n",
       "      <td>0</td>\n",
       "    </tr>\n",
       "    <tr>\n",
       "      <th>148259</th>\n",
       "      <td>0</td>\n",
       "      <td>31</td>\n",
       "      <td>1.0</td>\n",
       "      <td>0.0</td>\n",
       "      <td>0.211955</td>\n",
       "      <td>2734.0</td>\n",
       "      <td>9</td>\n",
       "      <td>1</td>\n",
       "      <td>0</td>\n",
       "      <td>0</td>\n",
       "      <td>0</td>\n",
       "    </tr>\n",
       "    <tr>\n",
       "      <th>148433</th>\n",
       "      <td>0</td>\n",
       "      <td>37</td>\n",
       "      <td>3.0</td>\n",
       "      <td>0.0</td>\n",
       "      <td>0.091785</td>\n",
       "      <td>2752.0</td>\n",
       "      <td>7</td>\n",
       "      <td>2</td>\n",
       "      <td>0</td>\n",
       "      <td>0</td>\n",
       "      <td>0</td>\n",
       "    </tr>\n",
       "    <tr>\n",
       "      <th>149384</th>\n",
       "      <td>0</td>\n",
       "      <td>63</td>\n",
       "      <td>0.0</td>\n",
       "      <td>0.0</td>\n",
       "      <td>0.239302</td>\n",
       "      <td>3153.0</td>\n",
       "      <td>29</td>\n",
       "      <td>1</td>\n",
       "      <td>0</td>\n",
       "      <td>0</td>\n",
       "      <td>0</td>\n",
       "    </tr>\n",
       "    <tr>\n",
       "      <th>149674</th>\n",
       "      <td>0</td>\n",
       "      <td>82</td>\n",
       "      <td>0.0</td>\n",
       "      <td>0.0</td>\n",
       "      <td>0.132362</td>\n",
       "      <td>4123.0</td>\n",
       "      <td>14</td>\n",
       "      <td>2</td>\n",
       "      <td>0</td>\n",
       "      <td>0</td>\n",
       "      <td>0</td>\n",
       "    </tr>\n",
       "  </tbody>\n",
       "</table>\n",
       "<p>331 rows × 11 columns</p>\n",
       "</div>"
      ],
      "text/plain": [
       "        serious_delinquency  age  ...  late_60-89_days  late_90_days\n",
       "51                        0   73  ...                1             0\n",
       "74                        0   31  ...                0             0\n",
       "91                        0   51  ...                0             0\n",
       "327                       0   43  ...                0             0\n",
       "509                       0   73  ...                0             0\n",
       "...                     ...  ...  ...              ...           ...\n",
       "147524                    0   50  ...                0             0\n",
       "148259                    0   31  ...                0             0\n",
       "148433                    0   37  ...                0             0\n",
       "149384                    0   63  ...                0             0\n",
       "149674                    0   82  ...                0             0\n",
       "\n",
       "[331 rows x 11 columns]"
      ]
     },
     "execution_count": 10,
     "metadata": {
      "tags": []
     },
     "output_type": "execute_result"
    }
   ],
   "source": [
    "df[(df['debt_ratio'] > df['debt_ratio'].quantile(0.95)) & (df['serious_delinquency'] == df['monthly_income'])]"
   ]
  },
  {
   "cell_type": "markdown",
   "metadata": {
    "id": "KvtbaQ0GMr5a"
   },
   "source": [
    "Dari 379 orang tsb., terdapat 331 orang yg memiliki nilai `monthly_income` = 0 atau 1 (dari nilai `serious_delinquency`). \n",
    "<br>\n",
    "Dengan `debt_ratio` > 2449 kali dan nilai `monthly_income` = 0 atau 1, kemungkinan 331 data ini merupakan kesalahan input dan perlu dihilangkan dari dataset. "
   ]
  },
  {
   "cell_type": "code",
   "execution_count": null,
   "metadata": {
    "id": "WTbcG1vBwwaT"
   },
   "outputs": [],
   "source": [
    "# Remove 31 data dari 'debt_ratio'\n",
    "df_debt = df.drop(df[(df['debt_ratio'] > df['debt_ratio'].quantile(0.95))].index)"
   ]
  },
  {
   "cell_type": "code",
   "execution_count": null,
   "metadata": {
    "id": "GpsqKXv0PEcQ"
   },
   "outputs": [],
   "source": []
  },
  {
   "cell_type": "markdown",
   "metadata": {
    "id": "g_q_T7Rhi-Qp"
   },
   "source": [
    "**Late Payment**\n",
    "<br>\n",
    "Berapa banyak orang yg memiliki riwayat kredit melebihi tanggal jatuh tempo (terlambat 30-59 hari, 60-89 hari, dan >90 hari)?"
   ]
  },
  {
   "cell_type": "code",
   "execution_count": null,
   "metadata": {
    "colab": {
     "base_uri": "https://localhost:8080/",
     "height": 638
    },
    "id": "paKdDleVfjUT",
    "outputId": "441b8e16-23e0-43b6-de88-56be4d55a9fd"
   },
   "outputs": [
    {
     "data": {
      "text/html": [
       "<div>\n",
       "<style scoped>\n",
       "    .dataframe tbody tr th:only-of-type {\n",
       "        vertical-align: middle;\n",
       "    }\n",
       "\n",
       "    .dataframe tbody tr th {\n",
       "        vertical-align: top;\n",
       "    }\n",
       "\n",
       "    .dataframe thead th {\n",
       "        text-align: right;\n",
       "    }\n",
       "</style>\n",
       "<table border=\"1\" class=\"dataframe\">\n",
       "  <thead>\n",
       "    <tr style=\"text-align: right;\">\n",
       "      <th></th>\n",
       "      <th>Jumlah Kejadian</th>\n",
       "      <th>late_30-59_days</th>\n",
       "      <th>late_60-89_days</th>\n",
       "      <th>late_90_days</th>\n",
       "    </tr>\n",
       "  </thead>\n",
       "  <tbody>\n",
       "    <tr>\n",
       "      <th>0</th>\n",
       "      <td>0</td>\n",
       "      <td>119785.0</td>\n",
       "      <td>135213.0</td>\n",
       "      <td>134426</td>\n",
       "    </tr>\n",
       "    <tr>\n",
       "      <th>1</th>\n",
       "      <td>1</td>\n",
       "      <td>15216.0</td>\n",
       "      <td>5494.0</td>\n",
       "      <td>5070</td>\n",
       "    </tr>\n",
       "    <tr>\n",
       "      <th>2</th>\n",
       "      <td>2</td>\n",
       "      <td>4349.0</td>\n",
       "      <td>1066.0</td>\n",
       "      <td>1511</td>\n",
       "    </tr>\n",
       "    <tr>\n",
       "      <th>3</th>\n",
       "      <td>3</td>\n",
       "      <td>1655.0</td>\n",
       "      <td>308.0</td>\n",
       "      <td>649</td>\n",
       "    </tr>\n",
       "    <tr>\n",
       "      <th>4</th>\n",
       "      <td>4</td>\n",
       "      <td>692.0</td>\n",
       "      <td>96.0</td>\n",
       "      <td>280</td>\n",
       "    </tr>\n",
       "    <tr>\n",
       "      <th>5</th>\n",
       "      <td>5</td>\n",
       "      <td>315.0</td>\n",
       "      <td>31.0</td>\n",
       "      <td>124</td>\n",
       "    </tr>\n",
       "    <tr>\n",
       "      <th>7</th>\n",
       "      <td>6</td>\n",
       "      <td>131.0</td>\n",
       "      <td>16.0</td>\n",
       "      <td>78</td>\n",
       "    </tr>\n",
       "    <tr>\n",
       "      <th>8</th>\n",
       "      <td>7</td>\n",
       "      <td>52.0</td>\n",
       "      <td>9.0</td>\n",
       "      <td>36</td>\n",
       "    </tr>\n",
       "    <tr>\n",
       "      <th>9</th>\n",
       "      <td>8</td>\n",
       "      <td>24.0</td>\n",
       "      <td>2.0</td>\n",
       "      <td>21</td>\n",
       "    </tr>\n",
       "    <tr>\n",
       "      <th>10</th>\n",
       "      <td>9</td>\n",
       "      <td>11.0</td>\n",
       "      <td>1.0</td>\n",
       "      <td>19</td>\n",
       "    </tr>\n",
       "    <tr>\n",
       "      <th>12</th>\n",
       "      <td>10</td>\n",
       "      <td>3.0</td>\n",
       "      <td>NaN</td>\n",
       "      <td>8</td>\n",
       "    </tr>\n",
       "    <tr>\n",
       "      <th>15</th>\n",
       "      <td>11</td>\n",
       "      <td>1.0</td>\n",
       "      <td>1.0</td>\n",
       "      <td>4</td>\n",
       "    </tr>\n",
       "    <tr>\n",
       "      <th>13</th>\n",
       "      <td>12</td>\n",
       "      <td>2.0</td>\n",
       "      <td>NaN</td>\n",
       "      <td>2</td>\n",
       "    </tr>\n",
       "    <tr>\n",
       "      <th>14</th>\n",
       "      <td>13</td>\n",
       "      <td>1.0</td>\n",
       "      <td>NaN</td>\n",
       "      <td>4</td>\n",
       "    </tr>\n",
       "    <tr>\n",
       "      <th>16</th>\n",
       "      <td>14</td>\n",
       "      <td>NaN</td>\n",
       "      <td>NaN</td>\n",
       "      <td>2</td>\n",
       "    </tr>\n",
       "    <tr>\n",
       "      <th>17</th>\n",
       "      <td>15</td>\n",
       "      <td>NaN</td>\n",
       "      <td>NaN</td>\n",
       "      <td>2</td>\n",
       "    </tr>\n",
       "    <tr>\n",
       "      <th>18</th>\n",
       "      <td>17</td>\n",
       "      <td>NaN</td>\n",
       "      <td>NaN</td>\n",
       "      <td>1</td>\n",
       "    </tr>\n",
       "    <tr>\n",
       "      <th>11</th>\n",
       "      <td>96</td>\n",
       "      <td>5.0</td>\n",
       "      <td>5.0</td>\n",
       "      <td>5</td>\n",
       "    </tr>\n",
       "    <tr>\n",
       "      <th>6</th>\n",
       "      <td>98</td>\n",
       "      <td>264.0</td>\n",
       "      <td>264.0</td>\n",
       "      <td>264</td>\n",
       "    </tr>\n",
       "  </tbody>\n",
       "</table>\n",
       "</div>"
      ],
      "text/plain": [
       "    Jumlah Kejadian  late_30-59_days  late_60-89_days  late_90_days\n",
       "0                 0         119785.0         135213.0        134426\n",
       "1                 1          15216.0           5494.0          5070\n",
       "2                 2           4349.0           1066.0          1511\n",
       "3                 3           1655.0            308.0           649\n",
       "4                 4            692.0             96.0           280\n",
       "5                 5            315.0             31.0           124\n",
       "7                 6            131.0             16.0            78\n",
       "8                 7             52.0              9.0            36\n",
       "9                 8             24.0              2.0            21\n",
       "10                9             11.0              1.0            19\n",
       "12               10              3.0              NaN             8\n",
       "15               11              1.0              1.0             4\n",
       "13               12              2.0              NaN             2\n",
       "14               13              1.0              NaN             4\n",
       "16               14              NaN              NaN             2\n",
       "17               15              NaN              NaN             2\n",
       "18               17              NaN              NaN             1\n",
       "11               96              5.0              5.0             5\n",
       "6                98            264.0            264.0           264"
      ]
     },
     "execution_count": 12,
     "metadata": {
      "tags": []
     },
     "output_type": "execute_result"
    }
   ],
   "source": [
    "df_late = reduce(lambda left, right: pd.merge(left, right, how='outer', on='index'), \n",
    "                 [pd.DataFrame(df_debt['late_30-59_days'].value_counts()).reset_index(),\n",
    "                  pd.DataFrame(df_debt['late_60-89_days'].value_counts()).reset_index(),\n",
    "                  pd.DataFrame(df_debt['late_90_days'].value_counts()).reset_index()]).sort_values('index').rename(columns={'index':'Jumlah Kejadian'})\n",
    "df_late                  "
   ]
  },
  {
   "cell_type": "markdown",
   "metadata": {
    "id": "rPbHAsWD6cKj"
   },
   "source": [
    "Pada tabel di atas, dapat dilihat bahwa pada bagian bawah tabel terdapat 5 orang yg memiliki riwayat telat jatuh tempo 30-59 hari, 60-89 hari, dan >90 hari sebanyak 96 kali, serta 264 orang yg telat jatuh tempo sebanyak 98 kali. \n",
    "<br>\n",
    "Kemungkinan kedua data ini merupakan outlier, karena pada data tidak terdapat orang yg melebihi jatuh tempo sebanyak 17-96 kali."
   ]
  },
  {
   "cell_type": "code",
   "execution_count": null,
   "metadata": {
    "colab": {
     "base_uri": "https://localhost:8080/",
     "height": 456
    },
    "id": "hkNJ2-Kc6Klc",
    "outputId": "a5594763-5ae7-4aa4-df10-b55155d6a58f"
   },
   "outputs": [
    {
     "data": {
      "text/html": [
       "<div>\n",
       "<style scoped>\n",
       "    .dataframe tbody tr th:only-of-type {\n",
       "        vertical-align: middle;\n",
       "    }\n",
       "\n",
       "    .dataframe tbody tr th {\n",
       "        vertical-align: top;\n",
       "    }\n",
       "\n",
       "    .dataframe thead th {\n",
       "        text-align: right;\n",
       "    }\n",
       "</style>\n",
       "<table border=\"1\" class=\"dataframe\">\n",
       "  <thead>\n",
       "    <tr style=\"text-align: right;\">\n",
       "      <th></th>\n",
       "      <th>serious_delinquency</th>\n",
       "      <th>age</th>\n",
       "      <th>num_of_dependents</th>\n",
       "      <th>monthly_income</th>\n",
       "      <th>RUUL</th>\n",
       "      <th>debt_ratio</th>\n",
       "      <th>num_of_open_loans</th>\n",
       "      <th>num_of_real_estate_loans</th>\n",
       "      <th>late_30-59_days</th>\n",
       "      <th>late_60-89_days</th>\n",
       "      <th>late_90_days</th>\n",
       "    </tr>\n",
       "  </thead>\n",
       "  <tbody>\n",
       "    <tr>\n",
       "      <th>1</th>\n",
       "      <td>1</td>\n",
       "      <td>45</td>\n",
       "      <td>2.0</td>\n",
       "      <td>9120.0</td>\n",
       "      <td>0.766127</td>\n",
       "      <td>0.802982</td>\n",
       "      <td>13</td>\n",
       "      <td>6</td>\n",
       "      <td>2</td>\n",
       "      <td>0</td>\n",
       "      <td>0</td>\n",
       "    </tr>\n",
       "    <tr>\n",
       "      <th>2</th>\n",
       "      <td>0</td>\n",
       "      <td>40</td>\n",
       "      <td>1.0</td>\n",
       "      <td>2600.0</td>\n",
       "      <td>0.957151</td>\n",
       "      <td>0.121876</td>\n",
       "      <td>4</td>\n",
       "      <td>0</td>\n",
       "      <td>0</td>\n",
       "      <td>0</td>\n",
       "      <td>0</td>\n",
       "    </tr>\n",
       "    <tr>\n",
       "      <th>3</th>\n",
       "      <td>0</td>\n",
       "      <td>38</td>\n",
       "      <td>0.0</td>\n",
       "      <td>3042.0</td>\n",
       "      <td>0.658180</td>\n",
       "      <td>0.085113</td>\n",
       "      <td>2</td>\n",
       "      <td>0</td>\n",
       "      <td>1</td>\n",
       "      <td>0</td>\n",
       "      <td>1</td>\n",
       "    </tr>\n",
       "    <tr>\n",
       "      <th>4</th>\n",
       "      <td>0</td>\n",
       "      <td>30</td>\n",
       "      <td>0.0</td>\n",
       "      <td>3300.0</td>\n",
       "      <td>0.233810</td>\n",
       "      <td>0.036050</td>\n",
       "      <td>5</td>\n",
       "      <td>0</td>\n",
       "      <td>0</td>\n",
       "      <td>0</td>\n",
       "      <td>0</td>\n",
       "    </tr>\n",
       "    <tr>\n",
       "      <th>5</th>\n",
       "      <td>0</td>\n",
       "      <td>49</td>\n",
       "      <td>0.0</td>\n",
       "      <td>63588.0</td>\n",
       "      <td>0.907239</td>\n",
       "      <td>0.024926</td>\n",
       "      <td>7</td>\n",
       "      <td>1</td>\n",
       "      <td>1</td>\n",
       "      <td>0</td>\n",
       "      <td>0</td>\n",
       "    </tr>\n",
       "    <tr>\n",
       "      <th>...</th>\n",
       "      <td>...</td>\n",
       "      <td>...</td>\n",
       "      <td>...</td>\n",
       "      <td>...</td>\n",
       "      <td>...</td>\n",
       "      <td>...</td>\n",
       "      <td>...</td>\n",
       "      <td>...</td>\n",
       "      <td>...</td>\n",
       "      <td>...</td>\n",
       "      <td>...</td>\n",
       "    </tr>\n",
       "    <tr>\n",
       "      <th>149995</th>\n",
       "      <td>0</td>\n",
       "      <td>50</td>\n",
       "      <td>0.0</td>\n",
       "      <td>3400.0</td>\n",
       "      <td>0.385742</td>\n",
       "      <td>0.404293</td>\n",
       "      <td>7</td>\n",
       "      <td>0</td>\n",
       "      <td>0</td>\n",
       "      <td>0</td>\n",
       "      <td>0</td>\n",
       "    </tr>\n",
       "    <tr>\n",
       "      <th>149996</th>\n",
       "      <td>0</td>\n",
       "      <td>74</td>\n",
       "      <td>0.0</td>\n",
       "      <td>2100.0</td>\n",
       "      <td>0.040674</td>\n",
       "      <td>0.225131</td>\n",
       "      <td>4</td>\n",
       "      <td>1</td>\n",
       "      <td>0</td>\n",
       "      <td>0</td>\n",
       "      <td>0</td>\n",
       "    </tr>\n",
       "    <tr>\n",
       "      <th>149997</th>\n",
       "      <td>0</td>\n",
       "      <td>44</td>\n",
       "      <td>2.0</td>\n",
       "      <td>5584.0</td>\n",
       "      <td>0.299745</td>\n",
       "      <td>0.716562</td>\n",
       "      <td>4</td>\n",
       "      <td>1</td>\n",
       "      <td>0</td>\n",
       "      <td>0</td>\n",
       "      <td>0</td>\n",
       "    </tr>\n",
       "    <tr>\n",
       "      <th>149999</th>\n",
       "      <td>0</td>\n",
       "      <td>30</td>\n",
       "      <td>0.0</td>\n",
       "      <td>5716.0</td>\n",
       "      <td>0.000000</td>\n",
       "      <td>0.000000</td>\n",
       "      <td>4</td>\n",
       "      <td>0</td>\n",
       "      <td>0</td>\n",
       "      <td>0</td>\n",
       "      <td>0</td>\n",
       "    </tr>\n",
       "    <tr>\n",
       "      <th>150000</th>\n",
       "      <td>0</td>\n",
       "      <td>64</td>\n",
       "      <td>0.0</td>\n",
       "      <td>8158.0</td>\n",
       "      <td>0.850283</td>\n",
       "      <td>0.249908</td>\n",
       "      <td>8</td>\n",
       "      <td>2</td>\n",
       "      <td>0</td>\n",
       "      <td>0</td>\n",
       "      <td>0</td>\n",
       "    </tr>\n",
       "  </tbody>\n",
       "</table>\n",
       "<p>142237 rows × 11 columns</p>\n",
       "</div>"
      ],
      "text/plain": [
       "        serious_delinquency  age  ...  late_60-89_days  late_90_days\n",
       "1                         1   45  ...                0             0\n",
       "2                         0   40  ...                0             0\n",
       "3                         0   38  ...                0             1\n",
       "4                         0   30  ...                0             0\n",
       "5                         0   49  ...                0             0\n",
       "...                     ...  ...  ...              ...           ...\n",
       "149995                    0   50  ...                0             0\n",
       "149996                    0   74  ...                0             0\n",
       "149997                    0   44  ...                0             0\n",
       "149999                    0   30  ...                0             0\n",
       "150000                    0   64  ...                0             0\n",
       "\n",
       "[142237 rows x 11 columns]"
      ]
     },
     "execution_count": 13,
     "metadata": {
      "tags": []
     },
     "output_type": "execute_result"
    }
   ],
   "source": [
    "# Remove jumlah kejadian late > 96\n",
    "df_late = df_debt.drop(df_debt[(df_debt['late_30-59_days'] >= 96)].index)\n",
    "df_late"
   ]
  },
  {
   "cell_type": "code",
   "execution_count": null,
   "metadata": {
    "id": "Nr-xhKwf6Kst"
   },
   "outputs": [],
   "source": []
  },
  {
   "cell_type": "markdown",
   "metadata": {
    "id": "eqKEO4pk2fdk"
   },
   "source": [
    "**RUUL** dengan **serious_delinquency**"
   ]
  },
  {
   "cell_type": "code",
   "execution_count": null,
   "metadata": {
    "colab": {
     "base_uri": "https://localhost:8080/",
     "height": 386
    },
    "id": "xB5k8BPhygC7",
    "outputId": "647f23be-80bc-45d2-fc58-bd7650f1b119"
   },
   "outputs": [
    {
     "data": {
      "text/plain": [
       "<seaborn.axisgrid.FacetGrid at 0x7f1a9b066d90>"
      ]
     },
     "execution_count": 14,
     "metadata": {
      "tags": []
     },
     "output_type": "execute_result"
    },
    {
     "data": {
      "image/png": "[encoded data removed]",
      "text/plain": [
       "<Figure size 360x360 with 1 Axes>"
      ]
     },
     "metadata": {
      "needs_background": "light",
      "tags": []
     },
     "output_type": "display_data"
    }
   ],
   "source": [
    "sns.displot(df_late, x='RUUL', kind='kde')"
   ]
  },
  {
   "cell_type": "code",
   "execution_count": null,
   "metadata": {
    "colab": {
     "base_uri": "https://localhost:8080/"
    },
    "id": "8RHM9QJb0Kya",
    "outputId": "0883c189-70db-4d51-80a5-044dfc3c134f"
   },
   "outputs": [
    {
     "data": {
      "text/plain": [
       "count    139027.000000\n",
       "mean          0.059499\n",
       "std           0.236558\n",
       "min           0.000000\n",
       "25%           0.000000\n",
       "50%           0.000000\n",
       "75%           0.000000\n",
       "max           1.000000\n",
       "Name: serious_delinquency, dtype: float64"
      ]
     },
     "execution_count": 15,
     "metadata": {
      "tags": []
     },
     "output_type": "execute_result"
    }
   ],
   "source": [
    "df_late[(df_late['RUUL'] >= 0) & (df_late['RUUL'] <= 1)]['serious_delinquency'].describe()"
   ]
  },
  {
   "cell_type": "code",
   "execution_count": null,
   "metadata": {
    "colab": {
     "base_uri": "https://localhost:8080/"
    },
    "id": "UGZzToLc0K4U",
    "outputId": "3163d2b6-9919-4e8a-b454-da7e051b31d5"
   },
   "outputs": [
    {
     "data": {
      "text/plain": [
       "count    3210.000000\n",
       "mean        0.371963\n",
       "std         0.483404\n",
       "min         0.000000\n",
       "25%         0.000000\n",
       "50%         0.000000\n",
       "75%         1.000000\n",
       "max         1.000000\n",
       "Name: serious_delinquency, dtype: float64"
      ]
     },
     "execution_count": 16,
     "metadata": {
      "tags": []
     },
     "output_type": "execute_result"
    }
   ],
   "source": [
    "df_late[df_late['RUUL'] > 1]['serious_delinquency'].describe()"
   ]
  },
  {
   "cell_type": "markdown",
   "metadata": {
    "id": "rChE0B8l24SV"
   },
   "source": [
    "Dapat dilihat bahwa jumlah orang yang memiliki rasio hutang dibagi limit kredit (RUUL) dengan nilai >=0 dan <=1 berjumlah 139.027 orang. \n",
    "<br>\n",
    "Terdapat 3210 orang yg memiliki RUUL > 1 bahkan mencapai 50.000. \n",
    "<br>\n",
    "Agar data konsisten, data dengan RUUL > 1 akan dihapus."
   ]
  },
  {
   "cell_type": "code",
   "execution_count": null,
   "metadata": {
    "colab": {
     "base_uri": "https://localhost:8080/",
     "height": 456
    },
    "id": "E3uiEoh-0K0y",
    "outputId": "07288d9d-cb82-4693-990b-a515aa2e445e"
   },
   "outputs": [
    {
     "data": {
      "text/html": [
       "<div>\n",
       "<style scoped>\n",
       "    .dataframe tbody tr th:only-of-type {\n",
       "        vertical-align: middle;\n",
       "    }\n",
       "\n",
       "    .dataframe tbody tr th {\n",
       "        vertical-align: top;\n",
       "    }\n",
       "\n",
       "    .dataframe thead th {\n",
       "        text-align: right;\n",
       "    }\n",
       "</style>\n",
       "<table border=\"1\" class=\"dataframe\">\n",
       "  <thead>\n",
       "    <tr style=\"text-align: right;\">\n",
       "      <th></th>\n",
       "      <th>serious_delinquency</th>\n",
       "      <th>age</th>\n",
       "      <th>num_of_dependents</th>\n",
       "      <th>monthly_income</th>\n",
       "      <th>RUUL</th>\n",
       "      <th>debt_ratio</th>\n",
       "      <th>num_of_open_loans</th>\n",
       "      <th>num_of_real_estate_loans</th>\n",
       "      <th>late_30-59_days</th>\n",
       "      <th>late_60-89_days</th>\n",
       "      <th>late_90_days</th>\n",
       "    </tr>\n",
       "  </thead>\n",
       "  <tbody>\n",
       "    <tr>\n",
       "      <th>1</th>\n",
       "      <td>1</td>\n",
       "      <td>45</td>\n",
       "      <td>2.0</td>\n",
       "      <td>9120.0</td>\n",
       "      <td>0.766127</td>\n",
       "      <td>0.802982</td>\n",
       "      <td>13</td>\n",
       "      <td>6</td>\n",
       "      <td>2</td>\n",
       "      <td>0</td>\n",
       "      <td>0</td>\n",
       "    </tr>\n",
       "    <tr>\n",
       "      <th>2</th>\n",
       "      <td>0</td>\n",
       "      <td>40</td>\n",
       "      <td>1.0</td>\n",
       "      <td>2600.0</td>\n",
       "      <td>0.957151</td>\n",
       "      <td>0.121876</td>\n",
       "      <td>4</td>\n",
       "      <td>0</td>\n",
       "      <td>0</td>\n",
       "      <td>0</td>\n",
       "      <td>0</td>\n",
       "    </tr>\n",
       "    <tr>\n",
       "      <th>3</th>\n",
       "      <td>0</td>\n",
       "      <td>38</td>\n",
       "      <td>0.0</td>\n",
       "      <td>3042.0</td>\n",
       "      <td>0.658180</td>\n",
       "      <td>0.085113</td>\n",
       "      <td>2</td>\n",
       "      <td>0</td>\n",
       "      <td>1</td>\n",
       "      <td>0</td>\n",
       "      <td>1</td>\n",
       "    </tr>\n",
       "    <tr>\n",
       "      <th>4</th>\n",
       "      <td>0</td>\n",
       "      <td>30</td>\n",
       "      <td>0.0</td>\n",
       "      <td>3300.0</td>\n",
       "      <td>0.233810</td>\n",
       "      <td>0.036050</td>\n",
       "      <td>5</td>\n",
       "      <td>0</td>\n",
       "      <td>0</td>\n",
       "      <td>0</td>\n",
       "      <td>0</td>\n",
       "    </tr>\n",
       "    <tr>\n",
       "      <th>5</th>\n",
       "      <td>0</td>\n",
       "      <td>49</td>\n",
       "      <td>0.0</td>\n",
       "      <td>63588.0</td>\n",
       "      <td>0.907239</td>\n",
       "      <td>0.024926</td>\n",
       "      <td>7</td>\n",
       "      <td>1</td>\n",
       "      <td>1</td>\n",
       "      <td>0</td>\n",
       "      <td>0</td>\n",
       "    </tr>\n",
       "    <tr>\n",
       "      <th>...</th>\n",
       "      <td>...</td>\n",
       "      <td>...</td>\n",
       "      <td>...</td>\n",
       "      <td>...</td>\n",
       "      <td>...</td>\n",
       "      <td>...</td>\n",
       "      <td>...</td>\n",
       "      <td>...</td>\n",
       "      <td>...</td>\n",
       "      <td>...</td>\n",
       "      <td>...</td>\n",
       "    </tr>\n",
       "    <tr>\n",
       "      <th>149995</th>\n",
       "      <td>0</td>\n",
       "      <td>50</td>\n",
       "      <td>0.0</td>\n",
       "      <td>3400.0</td>\n",
       "      <td>0.385742</td>\n",
       "      <td>0.404293</td>\n",
       "      <td>7</td>\n",
       "      <td>0</td>\n",
       "      <td>0</td>\n",
       "      <td>0</td>\n",
       "      <td>0</td>\n",
       "    </tr>\n",
       "    <tr>\n",
       "      <th>149996</th>\n",
       "      <td>0</td>\n",
       "      <td>74</td>\n",
       "      <td>0.0</td>\n",
       "      <td>2100.0</td>\n",
       "      <td>0.040674</td>\n",
       "      <td>0.225131</td>\n",
       "      <td>4</td>\n",
       "      <td>1</td>\n",
       "      <td>0</td>\n",
       "      <td>0</td>\n",
       "      <td>0</td>\n",
       "    </tr>\n",
       "    <tr>\n",
       "      <th>149997</th>\n",
       "      <td>0</td>\n",
       "      <td>44</td>\n",
       "      <td>2.0</td>\n",
       "      <td>5584.0</td>\n",
       "      <td>0.299745</td>\n",
       "      <td>0.716562</td>\n",
       "      <td>4</td>\n",
       "      <td>1</td>\n",
       "      <td>0</td>\n",
       "      <td>0</td>\n",
       "      <td>0</td>\n",
       "    </tr>\n",
       "    <tr>\n",
       "      <th>149999</th>\n",
       "      <td>0</td>\n",
       "      <td>30</td>\n",
       "      <td>0.0</td>\n",
       "      <td>5716.0</td>\n",
       "      <td>0.000000</td>\n",
       "      <td>0.000000</td>\n",
       "      <td>4</td>\n",
       "      <td>0</td>\n",
       "      <td>0</td>\n",
       "      <td>0</td>\n",
       "      <td>0</td>\n",
       "    </tr>\n",
       "    <tr>\n",
       "      <th>150000</th>\n",
       "      <td>0</td>\n",
       "      <td>64</td>\n",
       "      <td>0.0</td>\n",
       "      <td>8158.0</td>\n",
       "      <td>0.850283</td>\n",
       "      <td>0.249908</td>\n",
       "      <td>8</td>\n",
       "      <td>2</td>\n",
       "      <td>0</td>\n",
       "      <td>0</td>\n",
       "      <td>0</td>\n",
       "    </tr>\n",
       "  </tbody>\n",
       "</table>\n",
       "<p>139027 rows × 11 columns</p>\n",
       "</div>"
      ],
      "text/plain": [
       "        serious_delinquency  age  ...  late_60-89_days  late_90_days\n",
       "1                         1   45  ...                0             0\n",
       "2                         0   40  ...                0             0\n",
       "3                         0   38  ...                0             1\n",
       "4                         0   30  ...                0             0\n",
       "5                         0   49  ...                0             0\n",
       "...                     ...  ...  ...              ...           ...\n",
       "149995                    0   50  ...                0             0\n",
       "149996                    0   74  ...                0             0\n",
       "149997                    0   44  ...                0             0\n",
       "149999                    0   30  ...                0             0\n",
       "150000                    0   64  ...                0             0\n",
       "\n",
       "[139027 rows x 11 columns]"
      ]
     },
     "execution_count": 17,
     "metadata": {
      "tags": []
     },
     "output_type": "execute_result"
    }
   ],
   "source": [
    "# Remove RUUL > 1\n",
    "df_ruul = df_late.drop(df_late[df_late['RUUL'] > 1].index)\n",
    "df_ruul"
   ]
  },
  {
   "cell_type": "code",
   "execution_count": null,
   "metadata": {
    "id": "LmcvP2di0K6O"
   },
   "outputs": [],
   "source": []
  },
  {
   "cell_type": "markdown",
   "metadata": {
    "id": "FvUCQSoR53te"
   },
   "source": [
    "**Missing Value**"
   ]
  },
  {
   "cell_type": "code",
   "execution_count": null,
   "metadata": {
    "colab": {
     "base_uri": "https://localhost:8080/"
    },
    "id": "-jD0_XhnGPEJ",
    "outputId": "fb85281e-91ce-4924-a9f0-2dd075fc2390"
   },
   "outputs": [
    {
     "data": {
      "text/plain": [
       "serious_delinquency             0\n",
       "age                             0\n",
       "num_of_dependents            3336\n",
       "monthly_income              22052\n",
       "RUUL                            0\n",
       "debt_ratio                      0\n",
       "num_of_open_loans               0\n",
       "num_of_real_estate_loans        0\n",
       "late_30-59_days                 0\n",
       "late_60-89_days                 0\n",
       "late_90_days                    0\n",
       "dtype: int64"
      ]
     },
     "execution_count": 18,
     "metadata": {
      "tags": []
     },
     "output_type": "execute_result"
    }
   ],
   "source": [
    "df_ruul.isnull().sum()"
   ]
  },
  {
   "cell_type": "markdown",
   "metadata": {
    "id": "d0vNoypL_ooE"
   },
   "source": [
    "Kolom `monthly_income` dan `num_of_dependents` memiliki missing values yg cukup banyak, dan dapat diisi dengan nilai median dari masing-masing kolom."
   ]
  },
  {
   "cell_type": "code",
   "execution_count": null,
   "metadata": {
    "id": "92UWR656_TOw"
   },
   "outputs": [],
   "source": [
    "df_ruul['monthly_income']    = df_ruul['monthly_income'].fillna(df_ruul['monthly_income'].median())\n",
    "df_ruul['num_of_dependents'] = df_ruul['num_of_dependents'].fillna(df_ruul['num_of_dependents'].median())"
   ]
  },
  {
   "cell_type": "code",
   "execution_count": null,
   "metadata": {
    "colab": {
     "base_uri": "https://localhost:8080/"
    },
    "id": "CANSHWjp80jy",
    "outputId": "85b34dca-4eb5-42d2-c75a-8ab4f50d6f27"
   },
   "outputs": [
    {
     "data": {
      "text/plain": [
       "0        1\n",
       "21     157\n",
       "22     379\n",
       "23     596\n",
       "24     768\n",
       "      ... \n",
       "102      3\n",
       "103      3\n",
       "105      1\n",
       "107      1\n",
       "109      2\n",
       "Name: age, Length: 86, dtype: int64"
      ]
     },
     "execution_count": 20,
     "metadata": {
      "tags": []
     },
     "output_type": "execute_result"
    }
   ],
   "source": [
    "df_ruul['age'].value_counts().sort_index()"
   ]
  },
  {
   "cell_type": "code",
   "execution_count": null,
   "metadata": {
    "id": "EuWrihLd_LZO"
   },
   "outputs": [],
   "source": [
    "# Drop age = 0\n",
    "df_age = df_ruul.drop(df_ruul[df_ruul['age'] == 0].index)"
   ]
  },
  {
   "cell_type": "code",
   "execution_count": null,
   "metadata": {
    "id": "XVR8GvsL_j1c"
   },
   "outputs": [],
   "source": [
    "df_last = df_age.copy()"
   ]
  },
  {
   "cell_type": "code",
   "execution_count": null,
   "metadata": {
    "colab": {
     "base_uri": "https://localhost:8080/",
     "height": 618
    },
    "id": "VDy1rTLCi9KF",
    "outputId": "1e349875-3fb2-4788-8e44-f8cc3e7e8950"
   },
   "outputs": [
    {
     "data": {
      "image/png": "[encoded data removed]",
      "text/plain": [
       "<Figure size 576x576 with 2 Axes>"
      ]
     },
     "metadata": {
      "needs_background": "light",
      "tags": []
     },
     "output_type": "display_data"
    }
   ],
   "source": [
    "heat_col = ['age', 'num_of_dependents', 'monthly_income',\n",
    "            'RUUL', 'debt_ratio', 'num_of_open_loans', 'num_of_real_estate_loans',\n",
    "            'late_30-59_days', 'late_60-89_days', 'late_90_days']\n",
    "\n",
    "plt.figure(figsize=(8,8))\n",
    "plt.title('Heatmap')\n",
    "corr = df_last[heat_col].corr()\n",
    "sns.heatmap(corr, xticklabels=corr.columns, yticklabels=corr.columns, \n",
    "            linewidths=.5, vmin=-1, vmax=1, cmap='coolwarm', annot=True)\n",
    "plt.show()"
   ]
  },
  {
   "cell_type": "code",
   "execution_count": null,
   "metadata": {
    "id": "eVSe_ao7Zot8"
   },
   "outputs": [],
   "source": []
  },
  {
   "cell_type": "markdown",
   "metadata": {
    "id": "MXlPjx8Vs9db"
   },
   "source": [
    "**Weight of Evidence (WoE) dan Information Value (IV)**"
   ]
  },
  {
   "cell_type": "markdown",
   "metadata": {
    "id": "2voyEX6y3BUb"
   },
   "source": [
    "*Binning* dilakukan untuk masing-masing kolom sebelum perhitungan WoE dan IV."
   ]
  },
  {
   "cell_type": "code",
   "execution_count": null,
   "metadata": {
    "id": "FrhqO3bG80zS"
   },
   "outputs": [],
   "source": [
    "age_bins = [20, 30, 40, 50, 60, 70, 80, 90, 130]\n",
    "age_labels = ['A.20-30', 'A.30-40', 'A.40-50', 'A.50-60', 'A.60-70', 'A.70-80', 'A.80-90', 'A.90-130']\n",
    "df_last['Age_binned'] = pd.cut(df_last['age'], bins=age_bins, labels=age_labels)"
   ]
  },
  {
   "cell_type": "code",
   "execution_count": null,
   "metadata": {
    "id": "lmw_AACgJCq1"
   },
   "outputs": [],
   "source": [
    "dep_bins = [0, 0.9, 1.9, 2.9, 3.9, df_last['num_of_dependents'].max()]\n",
    "dep_labels = ['DEP.0', 'DEP.1', 'DEP.2', 'DEP.3', 'DEP.4']\n",
    "df_last['Num of Dependents_binned'] = pd.cut(df_last['num_of_dependents'], bins=dep_bins, labels=dep_labels, include_lowest=True)"
   ]
  },
  {
   "cell_type": "code",
   "execution_count": null,
   "metadata": {
    "id": "_Fgy0HCIHPI2"
   },
   "outputs": [],
   "source": [
    "mi_bins = [0, 2000, 4000, 6000, 8000, 10000, 12000, 14000, 16000, df_last['monthly_income'].max()]\n",
    "mi_labels = ['MI.0-2k', 'MI.2k-4k', 'MI.4k-6k', 'MI.6k-8k', 'MI.8k-10k', 'MI.10k-12k', 'MI.12k-14k', 'MI.14k-1616k', 'MI.>16k']\n",
    "df_last['Monthly Income_binned'] = pd.cut(df_last['monthly_income'], bins=mi_bins, labels=mi_labels, include_lowest=True)"
   ]
  },
  {
   "cell_type": "code",
   "execution_count": null,
   "metadata": {
    "id": "UThRGTP2aEBc"
   },
   "outputs": [],
   "source": [
    "RUUL_bins = [0, 0.2, 0.4, 0.6, 0.8, 1.0]\n",
    "RUUL_labels = ['RUUL.0-0.2', 'RUUL.0.2-0.4', 'RUUL.0.4-0.6', 'RUUL.0.6-0.8', 'RUUL.0.8-1']\n",
    "df_last['RUUL_binned'] = pd.cut(df_last['RUUL'], bins=RUUL_bins, labels=RUUL_labels, include_lowest=True)"
   ]
  },
  {
   "cell_type": "code",
   "execution_count": null,
   "metadata": {
    "id": "2rJcqDrmCUzv"
   },
   "outputs": [],
   "source": [
    "dr_bins = [0.0, 0.2, 0.5, 1, 2, 5, 10, 20, 50, 100, 2500]\n",
    "dr_labels = ['DR.0-0.2', 'DR.0.2-0.5', 'DR.0.5-1', 'DR.1-2', 'DR.2-5', 'DR.5-10', 'DR.10-20', 'DR.20-50', 'DR.50-100', 'DR.>100']\n",
    "df_last['Debt Ratio_binned'] = pd.cut(df_last['debt_ratio'], bins=dr_bins, labels=dr_labels, include_lowest=True)"
   ]
  },
  {
   "cell_type": "code",
   "execution_count": null,
   "metadata": {
    "id": "KWssPRfeP-Sy"
   },
   "outputs": [],
   "source": [
    "open_loans_bins = [0, 0.9, 1.9, 2.9, 3.9, 4.9, 5.9, 6.9, 7.9, 8.9, 9.9, 10.9, df_last['num_of_open_loans'].max()]\n",
    "open_loans_labels = ['OPEN.0', 'OPEN.1', 'OPEN.2', 'OPEN.3', 'OPEN.4', 'OPEN.5', 'OPEN.6', 'OPEN.7', 'OPEN.8', 'OPEN.9', 'OPEN.10', 'OPEN.>10']\n",
    "df_last['Open Loans_binned'] = pd.cut(df_last['num_of_open_loans'], bins=open_loans_bins, labels=open_loans_labels, include_lowest=True)"
   ]
  },
  {
   "cell_type": "code",
   "execution_count": null,
   "metadata": {
    "id": "qBUpT50wMb9f"
   },
   "outputs": [],
   "source": [
    "real_estate_bins = [0, 0.9, 1.9, 2.9, 3.9, df_last['num_of_real_estate_loans'].max()]\n",
    "real_estate_labels = ['ESTATE.0', 'ESTATE.1', 'ESTATE.2', 'ESTATE.3', 'ESTATE.>3']\n",
    "df_last['Real Estate_binned'] = pd.cut(df_last['num_of_real_estate_loans'], bins=real_estate_bins, labels=real_estate_labels, include_lowest=True)"
   ]
  },
  {
   "cell_type": "code",
   "execution_count": null,
   "metadata": {
    "id": "JUzoL9_dPWah"
   },
   "outputs": [],
   "source": [
    "late_30_bins = [0, 0.9, 1.9, 2.9, 3.9, 4.9, 5.9, df_last['late_30-59_days'].max()]\n",
    "late_30_labels = ['LATE30.0', 'LATE30.1', 'LATE30.2', 'LATE30.3', 'LATE30.4', 'LATE30.5', 'LATE30.>5']\n",
    "df_last['Late 30-59 Days_binned'] = pd.cut(df_last['late_30-59_days'], bins=late_30_bins, labels=late_30_labels, include_lowest=True)"
   ]
  },
  {
   "cell_type": "code",
   "execution_count": null,
   "metadata": {
    "id": "jj1ztfmrPWjo"
   },
   "outputs": [],
   "source": [
    "late_60_bins = [0, 0.9, 1.9, 2.9, 3.9, 4.9, 5.9, df_last['late_60-89_days'].max()]\n",
    "late_60_labels = ['LATE60.0', 'LATE60.1', 'LATE60.2', 'LATE60.3', 'LATE60.4', 'LATE60.5', 'LATE60.>5']\n",
    "df_last['Late 60-89 Days_binned'] = pd.cut(df_last['late_60-89_days'], bins=late_60_bins, labels=late_60_labels, include_lowest=True)"
   ]
  },
  {
   "cell_type": "code",
   "execution_count": null,
   "metadata": {
    "id": "HnFSa58jMwNQ"
   },
   "outputs": [],
   "source": [
    "late_90_bins = [0, 0.9, 1.9, 2.9, 3.9, 4.9, 5.9, df_last['late_90_days'].max()]\n",
    "late_90_labels = ['LATE90.0', 'LATE90.1', 'LATE90.2', 'LATE90.3', 'LATE90.4', 'LATE90.5', 'LATE90.>5']\n",
    "df_last['Late 90 Days_binned'] = pd.cut(df_last['late_90_days'], bins=late_90_bins, labels=late_90_labels, include_lowest=True)"
   ]
  },
  {
   "cell_type": "code",
   "execution_count": null,
   "metadata": {
    "id": "gZG4ErBnMwU0"
   },
   "outputs": [],
   "source": []
  },
  {
   "cell_type": "code",
   "execution_count": null,
   "metadata": {
    "colab": {
     "base_uri": "https://localhost:8080/",
     "height": 456
    },
    "id": "5dTeEzJDRS0x",
    "outputId": "53915c29-ae80-4d15-cbda-fc05bb90dfa5"
   },
   "outputs": [
    {
     "data": {
      "text/html": [
       "<div>\n",
       "<style scoped>\n",
       "    .dataframe tbody tr th:only-of-type {\n",
       "        vertical-align: middle;\n",
       "    }\n",
       "\n",
       "    .dataframe tbody tr th {\n",
       "        vertical-align: top;\n",
       "    }\n",
       "\n",
       "    .dataframe thead th {\n",
       "        text-align: right;\n",
       "    }\n",
       "</style>\n",
       "<table border=\"1\" class=\"dataframe\">\n",
       "  <thead>\n",
       "    <tr style=\"text-align: right;\">\n",
       "      <th></th>\n",
       "      <th>serious_delinquency</th>\n",
       "      <th>Age_binned</th>\n",
       "      <th>Num of Dependents_binned</th>\n",
       "      <th>Monthly Income_binned</th>\n",
       "      <th>RUUL_binned</th>\n",
       "      <th>Debt Ratio_binned</th>\n",
       "      <th>Open Loans_binned</th>\n",
       "      <th>Real Estate_binned</th>\n",
       "      <th>Late 30-59 Days_binned</th>\n",
       "      <th>Late 60-89 Days_binned</th>\n",
       "      <th>Late 90 Days_binned</th>\n",
       "    </tr>\n",
       "  </thead>\n",
       "  <tbody>\n",
       "    <tr>\n",
       "      <th>1</th>\n",
       "      <td>1</td>\n",
       "      <td>A.40-50</td>\n",
       "      <td>DEP.2</td>\n",
       "      <td>MI.8k-10k</td>\n",
       "      <td>RUUL.0.6-0.8</td>\n",
       "      <td>DR.0.5-1</td>\n",
       "      <td>OPEN.&gt;10</td>\n",
       "      <td>ESTATE.&gt;3</td>\n",
       "      <td>LATE30.2</td>\n",
       "      <td>LATE60.0</td>\n",
       "      <td>LATE90.0</td>\n",
       "    </tr>\n",
       "    <tr>\n",
       "      <th>2</th>\n",
       "      <td>0</td>\n",
       "      <td>A.30-40</td>\n",
       "      <td>DEP.1</td>\n",
       "      <td>MI.2k-4k</td>\n",
       "      <td>RUUL.0.8-1</td>\n",
       "      <td>DR.0-0.2</td>\n",
       "      <td>OPEN.4</td>\n",
       "      <td>ESTATE.0</td>\n",
       "      <td>LATE30.0</td>\n",
       "      <td>LATE60.0</td>\n",
       "      <td>LATE90.0</td>\n",
       "    </tr>\n",
       "    <tr>\n",
       "      <th>3</th>\n",
       "      <td>0</td>\n",
       "      <td>A.30-40</td>\n",
       "      <td>DEP.0</td>\n",
       "      <td>MI.2k-4k</td>\n",
       "      <td>RUUL.0.6-0.8</td>\n",
       "      <td>DR.0-0.2</td>\n",
       "      <td>OPEN.2</td>\n",
       "      <td>ESTATE.0</td>\n",
       "      <td>LATE30.1</td>\n",
       "      <td>LATE60.0</td>\n",
       "      <td>LATE90.1</td>\n",
       "    </tr>\n",
       "    <tr>\n",
       "      <th>4</th>\n",
       "      <td>0</td>\n",
       "      <td>A.20-30</td>\n",
       "      <td>DEP.0</td>\n",
       "      <td>MI.2k-4k</td>\n",
       "      <td>RUUL.0.2-0.4</td>\n",
       "      <td>DR.0-0.2</td>\n",
       "      <td>OPEN.5</td>\n",
       "      <td>ESTATE.0</td>\n",
       "      <td>LATE30.0</td>\n",
       "      <td>LATE60.0</td>\n",
       "      <td>LATE90.0</td>\n",
       "    </tr>\n",
       "    <tr>\n",
       "      <th>5</th>\n",
       "      <td>0</td>\n",
       "      <td>A.40-50</td>\n",
       "      <td>DEP.0</td>\n",
       "      <td>MI.&gt;16k</td>\n",
       "      <td>RUUL.0.8-1</td>\n",
       "      <td>DR.0-0.2</td>\n",
       "      <td>OPEN.7</td>\n",
       "      <td>ESTATE.1</td>\n",
       "      <td>LATE30.1</td>\n",
       "      <td>LATE60.0</td>\n",
       "      <td>LATE90.0</td>\n",
       "    </tr>\n",
       "    <tr>\n",
       "      <th>...</th>\n",
       "      <td>...</td>\n",
       "      <td>...</td>\n",
       "      <td>...</td>\n",
       "      <td>...</td>\n",
       "      <td>...</td>\n",
       "      <td>...</td>\n",
       "      <td>...</td>\n",
       "      <td>...</td>\n",
       "      <td>...</td>\n",
       "      <td>...</td>\n",
       "      <td>...</td>\n",
       "    </tr>\n",
       "    <tr>\n",
       "      <th>149995</th>\n",
       "      <td>0</td>\n",
       "      <td>A.40-50</td>\n",
       "      <td>DEP.0</td>\n",
       "      <td>MI.2k-4k</td>\n",
       "      <td>RUUL.0.2-0.4</td>\n",
       "      <td>DR.0.2-0.5</td>\n",
       "      <td>OPEN.7</td>\n",
       "      <td>ESTATE.0</td>\n",
       "      <td>LATE30.0</td>\n",
       "      <td>LATE60.0</td>\n",
       "      <td>LATE90.0</td>\n",
       "    </tr>\n",
       "    <tr>\n",
       "      <th>149996</th>\n",
       "      <td>0</td>\n",
       "      <td>A.70-80</td>\n",
       "      <td>DEP.0</td>\n",
       "      <td>MI.2k-4k</td>\n",
       "      <td>RUUL.0-0.2</td>\n",
       "      <td>DR.0.2-0.5</td>\n",
       "      <td>OPEN.4</td>\n",
       "      <td>ESTATE.1</td>\n",
       "      <td>LATE30.0</td>\n",
       "      <td>LATE60.0</td>\n",
       "      <td>LATE90.0</td>\n",
       "    </tr>\n",
       "    <tr>\n",
       "      <th>149997</th>\n",
       "      <td>0</td>\n",
       "      <td>A.40-50</td>\n",
       "      <td>DEP.2</td>\n",
       "      <td>MI.4k-6k</td>\n",
       "      <td>RUUL.0.2-0.4</td>\n",
       "      <td>DR.0.5-1</td>\n",
       "      <td>OPEN.4</td>\n",
       "      <td>ESTATE.1</td>\n",
       "      <td>LATE30.0</td>\n",
       "      <td>LATE60.0</td>\n",
       "      <td>LATE90.0</td>\n",
       "    </tr>\n",
       "    <tr>\n",
       "      <th>149999</th>\n",
       "      <td>0</td>\n",
       "      <td>A.20-30</td>\n",
       "      <td>DEP.0</td>\n",
       "      <td>MI.4k-6k</td>\n",
       "      <td>RUUL.0-0.2</td>\n",
       "      <td>DR.0-0.2</td>\n",
       "      <td>OPEN.4</td>\n",
       "      <td>ESTATE.0</td>\n",
       "      <td>LATE30.0</td>\n",
       "      <td>LATE60.0</td>\n",
       "      <td>LATE90.0</td>\n",
       "    </tr>\n",
       "    <tr>\n",
       "      <th>150000</th>\n",
       "      <td>0</td>\n",
       "      <td>A.60-70</td>\n",
       "      <td>DEP.0</td>\n",
       "      <td>MI.8k-10k</td>\n",
       "      <td>RUUL.0.8-1</td>\n",
       "      <td>DR.0.2-0.5</td>\n",
       "      <td>OPEN.8</td>\n",
       "      <td>ESTATE.2</td>\n",
       "      <td>LATE30.0</td>\n",
       "      <td>LATE60.0</td>\n",
       "      <td>LATE90.0</td>\n",
       "    </tr>\n",
       "  </tbody>\n",
       "</table>\n",
       "<p>139026 rows × 11 columns</p>\n",
       "</div>"
      ],
      "text/plain": [
       "        serious_delinquency  ... Late 90 Days_binned\n",
       "1                         1  ...            LATE90.0\n",
       "2                         0  ...            LATE90.0\n",
       "3                         0  ...            LATE90.1\n",
       "4                         0  ...            LATE90.0\n",
       "5                         0  ...            LATE90.0\n",
       "...                     ...  ...                 ...\n",
       "149995                    0  ...            LATE90.0\n",
       "149996                    0  ...            LATE90.0\n",
       "149997                    0  ...            LATE90.0\n",
       "149999                    0  ...            LATE90.0\n",
       "150000                    0  ...            LATE90.0\n",
       "\n",
       "[139026 rows x 11 columns]"
      ]
     },
     "execution_count": 59,
     "metadata": {
      "tags": []
     },
     "output_type": "execute_result"
    }
   ],
   "source": [
    "df_last_woe = df_last.copy()\n",
    "df_last_woe = df_last_woe.drop(['age', 'num_of_dependents', 'monthly_income',\n",
    "                                'RUUL', 'debt_ratio', 'num_of_open_loans', 'num_of_real_estate_loans',\n",
    "                                'late_30-59_days', 'late_60-89_days', 'late_90_days'], axis=1)\n",
    "df_last_woe"
   ]
  },
  {
   "cell_type": "code",
   "execution_count": null,
   "metadata": {
    "id": "aikhDXjBRYIf"
   },
   "outputs": [],
   "source": []
  },
  {
   "cell_type": "markdown",
   "metadata": {
    "id": "3QiS5LCS3RSE"
   },
   "source": [
    "Perhitungan WoE dan IV untuk masing-masing kolom"
   ]
  },
  {
   "cell_type": "code",
   "execution_count": null,
   "metadata": {
    "id": "ANpomuqQ7rxP"
   },
   "outputs": [],
   "source": [
    "def calculate_woe_iv(dataset, feature, target):\n",
    "    lst = []\n",
    "    for i in range(dataset[feature].nunique()):\n",
    "        val = list(dataset[feature].unique())[i]\n",
    "        lst.append({\n",
    "            'Value': val,\n",
    "            'All': dataset[dataset[feature] == val].count()[feature],\n",
    "            'Good': dataset[(dataset[feature] == val) & (dataset[target] == 0)].count()[feature],\n",
    "            'Bad': dataset[(dataset[feature] == val) & (dataset[target] == 1)].count()[feature]\n",
    "        })\n",
    "        \n",
    "    dset = pd.DataFrame(lst)\n",
    "    dset['Distr_Good'] = dset['Good'] / dset['Good'].sum()\n",
    "    dset['Distr_Bad'] = dset['Bad'] / dset['Bad'].sum()\n",
    "    dset['WoE'] = np.log(dset['Distr_Good'] / dset['Distr_Bad'])\n",
    "    dset = dset.replace({'WoE': {np.inf: 0, -np.inf: 0}})\n",
    "    dset['IV'] = (dset['Distr_Good'] - dset['Distr_Bad']) * dset['WoE']\n",
    "    iv = dset['IV'].sum()\n",
    "    \n",
    "    dset = dset.sort_values(by='WoE')\n",
    "    \n",
    "    return dset, iv"
   ]
  },
  {
   "cell_type": "code",
   "execution_count": null,
   "metadata": {
    "colab": {
     "base_uri": "https://localhost:8080/"
    },
    "id": "FA2nfRXC7rzf",
    "outputId": "39f6d3fb-d5dd-4f82-c68a-b046fa736faa"
   },
   "outputs": [
    {
     "name": "stdout",
     "output_type": "stream",
     "text": [
      "WoE and IV for column: Age_binned\n",
      "      Value    All   Good   Bad  Distr_Good  Distr_Bad       WoE        IV\n",
      "2   A.20-30  10013   9029   984    0.069053   0.118956 -0.543870  0.027140\n",
      "1   A.30-40  22514  20595  1919    0.157510   0.231987 -0.387197  0.028838\n",
      "0   A.40-50  32092  29690  2402    0.227068   0.290377 -0.245933  0.015570\n",
      "4   A.50-60  31848  30044  1804    0.229775   0.218085  0.052215  0.000610\n",
      "5   A.60-70  25425  24630   795    0.188369   0.096107  0.672937  0.062086\n",
      "3   A.70-80  12271  11997   274    0.091752   0.033124  1.018842  0.059733\n",
      "7  A.90-130    482    472    10    0.003610   0.001209  1.093953  0.002627\n",
      "6   A.80-90   4381   4297    84    0.032863   0.010155  1.174414  0.026669\n",
      "IV score: 0.22\n",
      "\n",
      "\n",
      "WoE and IV for column: Num of Dependents_binned\n",
      "   Value    All   Good   Bad  Distr_Good  Distr_Bad       WoE        IV\n",
      "4  DEP.4   3602   3275   327    0.025047   0.039531 -0.456328  0.006609\n",
      "3  DEP.3   8861   8138   723    0.062239   0.087403 -0.339551  0.008545\n",
      "0  DEP.2  18314  16992  1322    0.129954   0.159816 -0.206844  0.006177\n",
      "1  DEP.1  24943  23308  1635    0.178258   0.197655 -0.103288  0.002003\n",
      "2  DEP.0  83306  79041  4265    0.604502   0.515595  0.159083  0.014144\n",
      "IV score: 0.04\n",
      "\n",
      "\n",
      "WoE and IV for column: Monthly Income_binned\n",
      "          Value    All   Good   Bad  Distr_Good  Distr_Bad       WoE        IV\n",
      "1      MI.2k-4k  27389  25201  2188    0.192736   0.264507 -0.316546  0.022719\n",
      "6       MI.0-2k  11166  10356   810    0.079202   0.097921 -0.212154  0.003971\n",
      "3      MI.4k-6k  50053  47167  2886    0.360731   0.348888  0.033382  0.000395\n",
      "4      MI.6k-8k  19377  18341  1036    0.140271   0.125242  0.113330  0.001703\n",
      "0     MI.8k-10k  12967  12349   618    0.094445   0.074710  0.234401  0.004626\n",
      "2       MI.>16k   4284   4090   194    0.031280   0.023453  0.288001  0.002254\n",
      "8  MI.14k-1616k   2304   2202   102    0.016841   0.012331  0.311707  0.001406\n",
      "5    MI.12k-14k   4003   3846   157    0.029414   0.018980  0.438102  0.004571\n",
      "7    MI.10k-12k   7483   7202   281    0.055081   0.033970  0.483318  0.010203\n",
      "IV score: 0.05\n",
      "\n",
      "\n",
      "WoE and IV for column: RUUL_binned\n",
      "          Value    All   Good   Bad  Distr_Good  Distr_Bad       WoE        IV\n",
      "1    RUUL.0.8-1  20612  16833  3779    0.128738   0.456842 -1.266560  0.415564\n",
      "0  RUUL.0.6-0.8   9497   8350  1147    0.063860   0.138661 -0.775330  0.057995\n",
      "4  RUUL.0.4-0.6  12401  11442   959    0.087508   0.115933 -0.281286  0.007996\n",
      "2  RUUL.0.2-0.4  18622  17804   818    0.136164   0.098888  0.319875  0.011924\n",
      "3    RUUL.0-0.2  77894  76325  1569    0.583730   0.189676  1.124121  0.442964\n",
      "IV score: 0.94\n",
      "\n",
      "\n",
      "WoE and IV for column: Debt Ratio_binned\n",
      "        Value    All   Good   Bad  Distr_Good  Distr_Bad       WoE        IV\n",
      "5      DR.1-2   3977   3494   483    0.026722   0.058390 -0.781656  0.024753\n",
      "0    DR.0.5-1  20574  18730  1844    0.143246   0.222921 -0.442252  0.035236\n",
      "7      DR.2-5   1377   1278    99    0.009774   0.011968 -0.202510  0.000444\n",
      "2  DR.0.2-0.5  50325  47633  2692    0.364295   0.325435  0.112800  0.004383\n",
      "1    DR.0-0.2  41122  39001  2121    0.298278   0.256407  0.151258  0.006333\n",
      "4     DR.>100  16501  15656   845    0.119736   0.102152  0.158832  0.002793\n",
      "3    DR.20-50   1888   1815    73    0.013881   0.008825  0.452940  0.002290\n",
      "6   DR.50-100   1514   1458    56    0.011151   0.006770  0.499028  0.002186\n",
      "8     DR.5-10    757    729    28    0.005575   0.003385  0.499028  0.001093\n",
      "9    DR.10-20    991    960    31    0.007342   0.003748  0.672505  0.002417\n",
      "IV score: 0.08\n",
      "\n",
      "\n",
      "WoE and IV for column: Open Loans_binned\n",
      "       Value    All   Good   Bad  Distr_Good  Distr_Bad       WoE        IV\n",
      "11    OPEN.0   1613   1276   337    0.009759   0.040740 -1.429039  0.044273\n",
      "10    OPEN.1   4258   3734   524    0.028557   0.063346 -0.796698  0.027716\n",
      "2     OPEN.2   6286   5778   508    0.044190   0.061412 -0.329110  0.005668\n",
      "5     OPEN.3   8555   7996   559    0.061153   0.067577 -0.099894  0.000642\n",
      "0   OPEN.>10  39349  36961  2388    0.282676   0.288685 -0.021034  0.000126\n",
      "1     OPEN.4  10919  10337   582    0.079057   0.070358  0.116573  0.001014\n",
      "7     OPEN.9  10487   9930   557    0.075944   0.067336  0.120309  0.001036\n",
      "3     OPEN.5  12088  11448   640    0.087554   0.077369  0.123661  0.001259\n",
      "9    OPEN.10   8864   8395   469    0.064205   0.056697  0.124347  0.000934\n",
      "8     OPEN.6  12645  12031   614    0.092012   0.074226  0.214806  0.003821\n",
      "4     OPEN.7  12320  11722   598    0.089649   0.072292  0.215191  0.003735\n",
      "6     OPEN.8  11642  11146   496    0.085244   0.059961  0.351819  0.008895\n",
      "IV score: 0.10\n",
      "\n",
      "\n",
      "WoE and IV for column: Real Estate_binned\n",
      "       Value    All   Good   Bad  Distr_Good  Distr_Bad       WoE        IV\n",
      "0  ESTATE.>3   3064   2715   349    0.020764   0.042191 -0.708966  0.015191\n",
      "1   ESTATE.0  53952  50154  3798    0.383575   0.459139 -0.179818  0.013588\n",
      "4   ESTATE.3   5388   5035   353    0.038507   0.042674 -0.102741  0.000428\n",
      "3   ESTATE.2  27950  26490  1460    0.202594   0.176499  0.137889  0.003598\n",
      "2   ESTATE.1  48672  46360  2312    0.354559   0.279497  0.237883  0.017856\n",
      "IV score: 0.05\n",
      "\n",
      "\n",
      "WoE and IV for column: Late 30-59 Days_binned\n",
      "       Value     All    Good   Bad  Distr_Good  Distr_Bad       WoE        IV\n",
      "5  LATE30.>5     188     102    86    0.000780   0.010397 -2.589816  0.024905\n",
      "6   LATE30.5     261     154   107    0.001178   0.012935 -2.396318  0.028175\n",
      "4   LATE30.4     590     354   236    0.002707   0.028530 -2.354976  0.060812\n",
      "3   LATE30.3    1438     985   453    0.007533   0.054763 -1.983692  0.093689\n",
      "0   LATE30.2    3925    2978   947    0.022776   0.114483 -1.614733  0.148082\n",
      "2   LATE30.1   14394   12443  1951    0.095163   0.235856 -0.907625  0.127696\n",
      "1   LATE30.0  118230  113738  4492    0.869862   0.543037  0.471158  0.153987\n",
      "IV score: 0.64\n",
      "\n",
      "\n",
      "WoE and IV for column: Late 60-89 Days_binned\n",
      "       Value     All    Good   Bad  Distr_Good  Distr_Bad       WoE        IV\n",
      "6  LATE60.>5      23       9    14    0.000069   0.001692 -3.202274  0.005199\n",
      "5   LATE60.4      71      32    39    0.000245   0.004715 -2.958267  0.013223\n",
      "4   LATE60.3     233     108   125    0.000826   0.015111 -2.906624  0.041522\n",
      "3   LATE60.5      23      11    12    0.000084   0.001451 -2.847453  0.003891\n",
      "2   LATE60.2     848     446   402    0.003411   0.048598 -2.656575  0.120042\n",
      "1   LATE60.1    4942    3530  1412    0.026997   0.170696 -1.844151  0.265003\n",
      "0   LATE60.0  132886  126618  6268    0.968368   0.757737  0.245276  0.051663\n",
      "IV score: 0.50\n",
      "\n",
      "\n",
      "WoE and IV for column: Late 90 Days_binned\n",
      "       Value     All    Good   Bad  Distr_Good  Distr_Bad       WoE        IV\n",
      "4   LATE90.4     222      78   144    0.000597   0.017408 -3.373546  0.056715\n",
      "5  LATE90.>5     132      50    82    0.000382   0.009913 -3.255138  0.031023\n",
      "6   LATE90.5      93      38    55    0.000291   0.006649 -3.130188  0.019903\n",
      "2   LATE90.3     521     231   290    0.001767   0.035058 -2.987905  0.099471\n",
      "3   LATE90.2    1274     666   608    0.005094   0.073501 -2.669327  0.182602\n",
      "1   LATE90.1    4578    3110  1468    0.023785   0.177466 -2.009720  0.308856\n",
      "0   LATE90.0  132206  126581  5625    0.968085   0.680005  0.353220  0.101756\n",
      "IV score: 0.80\n",
      "\n",
      "\n"
     ]
    }
   ],
   "source": [
    "for col in df_last_woe.columns:\n",
    "    if col == 'serious_delinquency': continue\n",
    "    else:\n",
    "        print('WoE and IV for column: {}'.format(col))\n",
    "        df, iv = calculate_woe_iv(df_last_woe, col, 'serious_delinquency')\n",
    "        print(df)\n",
    "        print('IV score: {:.2f}'.format(iv))\n",
    "        print('\\n')"
   ]
  },
  {
   "cell_type": "markdown",
   "metadata": {
    "id": "0Y4J9LnHfv6A"
   },
   "source": [
    "Pemeringkatan nilai IV untuk masing-masing kolom"
   ]
  },
  {
   "cell_type": "code",
   "execution_count": null,
   "metadata": {
    "colab": {
     "base_uri": "https://localhost:8080/",
     "height": 359
    },
    "id": "8UaJNWx8inue",
    "outputId": "1f0e1240-e2c8-4747-d1fc-a38da2bc68fe"
   },
   "outputs": [
    {
     "data": {
      "text/html": [
       "<div>\n",
       "<style scoped>\n",
       "    .dataframe tbody tr th:only-of-type {\n",
       "        vertical-align: middle;\n",
       "    }\n",
       "\n",
       "    .dataframe tbody tr th {\n",
       "        vertical-align: top;\n",
       "    }\n",
       "\n",
       "    .dataframe thead th {\n",
       "        text-align: right;\n",
       "    }\n",
       "</style>\n",
       "<table border=\"1\" class=\"dataframe\">\n",
       "  <thead>\n",
       "    <tr style=\"text-align: right;\">\n",
       "      <th></th>\n",
       "      <th>Columns</th>\n",
       "      <th>IV</th>\n",
       "    </tr>\n",
       "  </thead>\n",
       "  <tbody>\n",
       "    <tr>\n",
       "      <th>3</th>\n",
       "      <td>RUUL_binned</td>\n",
       "      <td>0.936442</td>\n",
       "    </tr>\n",
       "    <tr>\n",
       "      <th>9</th>\n",
       "      <td>late_90_days_binned</td>\n",
       "      <td>0.800325</td>\n",
       "    </tr>\n",
       "    <tr>\n",
       "      <th>7</th>\n",
       "      <td>late_30-59_days_binned</td>\n",
       "      <td>0.637345</td>\n",
       "    </tr>\n",
       "    <tr>\n",
       "      <th>8</th>\n",
       "      <td>late_60-89_days_binned</td>\n",
       "      <td>0.500543</td>\n",
       "    </tr>\n",
       "    <tr>\n",
       "      <th>0</th>\n",
       "      <td>age_binned</td>\n",
       "      <td>0.223274</td>\n",
       "    </tr>\n",
       "    <tr>\n",
       "      <th>4</th>\n",
       "      <td>open_loans_binned</td>\n",
       "      <td>0.099119</td>\n",
       "    </tr>\n",
       "    <tr>\n",
       "      <th>1</th>\n",
       "      <td>debt_ratio_binned</td>\n",
       "      <td>0.081930</td>\n",
       "    </tr>\n",
       "    <tr>\n",
       "      <th>2</th>\n",
       "      <td>monthly_income_binned</td>\n",
       "      <td>0.051849</td>\n",
       "    </tr>\n",
       "    <tr>\n",
       "      <th>5</th>\n",
       "      <td>real_estate_binned</td>\n",
       "      <td>0.050661</td>\n",
       "    </tr>\n",
       "    <tr>\n",
       "      <th>6</th>\n",
       "      <td>num_of_dependents_binned</td>\n",
       "      <td>0.037478</td>\n",
       "    </tr>\n",
       "  </tbody>\n",
       "</table>\n",
       "</div>"
      ],
      "text/plain": [
       "                    Columns        IV\n",
       "3               RUUL_binned  0.936442\n",
       "9       late_90_days_binned  0.800325\n",
       "7    late_30-59_days_binned  0.637345\n",
       "8    late_60-89_days_binned  0.500543\n",
       "0                age_binned  0.223274\n",
       "4         open_loans_binned  0.099119\n",
       "1         debt_ratio_binned  0.081930\n",
       "2     monthly_income_binned  0.051849\n",
       "5        real_estate_binned  0.050661\n",
       "6  num_of_dependents_binned  0.037478"
      ]
     },
     "execution_count": 62,
     "metadata": {
      "tags": []
     },
     "output_type": "execute_result"
    }
   ],
   "source": [
    "df_IV =  pd.DataFrame({'Columns':\n",
    "                       ['age_binned', 'debt_ratio_binned', 'monthly_income_binned', 'RUUL_binned',\n",
    "                        'open_loans_binned', 'real_estate_binned', 'num_of_dependents_binned',\n",
    "                        'late_30-59_days_binned', 'late_60-89_days_binned', 'late_90_days_binned'],\n",
    "                       'IV':\n",
    "                       [calculate_woe_iv(df_last_woe, 'Age_binned', 'serious_delinquency')[1],\n",
    "                        calculate_woe_iv(df_last_woe, 'Debt Ratio_binned', 'serious_delinquency')[1],\n",
    "                        calculate_woe_iv(df_last_woe, 'Monthly Income_binned', 'serious_delinquency')[1],\n",
    "                        calculate_woe_iv(df_last_woe, 'RUUL_binned', 'serious_delinquency')[1],\n",
    "                        calculate_woe_iv(df_last_woe, 'Open Loans_binned', 'serious_delinquency')[1],\n",
    "                        calculate_woe_iv(df_last_woe, 'Real Estate_binned', 'serious_delinquency')[1],\n",
    "                        calculate_woe_iv(df_last_woe, 'Num of Dependents_binned', 'serious_delinquency')[1],\n",
    "                        calculate_woe_iv(df_last_woe, 'Late 30-59 Days_binned', 'serious_delinquency')[1],\n",
    "                        calculate_woe_iv(df_last_woe, 'Late 60-89 Days_binned', 'serious_delinquency')[1],\n",
    "                        calculate_woe_iv(df_last_woe, 'Late 90 Days_binned', 'serious_delinquency')[1]],                      \n",
    "                       }).sort_values('IV', ascending=False)\n",
    "df_IV"
   ]
  },
  {
   "cell_type": "code",
   "execution_count": null,
   "metadata": {
    "id": "5gVIAetm5Y0Q"
   },
   "outputs": [],
   "source": []
  },
  {
   "cell_type": "markdown",
   "metadata": {
    "id": "BkEY3KXbte9q"
   },
   "source": [
    "**Machine Learning**"
   ]
  },
  {
   "cell_type": "markdown",
   "metadata": {
    "id": "V4cMTLUMfTCe"
   },
   "source": [
    "Training dengan menggunakan algoritma `LogisticRegression` dan `K-Fold` cross validation dengan nilai `k`=5, menggunakan 7 kolom dengan nilai IV tertinggi."
   ]
  },
  {
   "cell_type": "code",
   "execution_count": null,
   "metadata": {
    "id": "FuWv5ZOYrjxC"
   },
   "outputs": [],
   "source": [
    "from sklearn.linear_model import LogisticRegression\n",
    "from sklearn.model_selection import train_test_split, RepeatedStratifiedKFold, cross_val_score"
   ]
  },
  {
   "cell_type": "code",
   "execution_count": null,
   "metadata": {
    "id": "tkAvMfkdWEyP"
   },
   "outputs": [],
   "source": [
    "# Kolom input menggunakan 7 kolom dengan nilai IV tertinggi\n",
    "X = df_last_woe[['Age_binned', 'RUUL_binned', 'Debt Ratio_binned', 'Open Loans_binned',\n",
    "                 'Late 30-59 Days_binned', 'Late 60-89 Days_binned', 'Late 90 Days_binned']]\n",
    "X = pd.get_dummies(X)\n",
    "# Kolom target\n",
    "y = df_last_woe['serious_delinquency']\n",
    "features = ['Age_binned', 'RUUL_binned', 'Debt Ratio_binned', 'Open Loans_binned',\n",
    "            'Late 30-59 Days_binned', 'Late 60-89 Days_binned', 'Late 90 Days_binned']                "
   ]
  },
  {
   "cell_type": "code",
   "execution_count": null,
   "metadata": {
    "id": "V7cCJGI5rG5B"
   },
   "outputs": [],
   "source": [
    "reg = LogisticRegression(max_iter=1000, class_weight='balanced')\n",
    "clf_list = [reg]"
   ]
  },
  {
   "cell_type": "code",
   "execution_count": null,
   "metadata": {
    "colab": {
     "base_uri": "https://localhost:8080/"
    },
    "id": "EbpcLsWTXqa5",
    "outputId": "268fcb36-6e45-4f72-d668-6d8e0bfc2c2f"
   },
   "outputs": [
    {
     "name": "stdout",
     "output_type": "stream",
     "text": [
      "Fold:  1\n",
      "LogisticRegression\n",
      "Fold:  2\n",
      "LogisticRegression\n",
      "Fold:  3\n",
      "LogisticRegression\n",
      "Fold:  4\n",
      "LogisticRegression\n",
      "Fold:  5\n",
      "LogisticRegression\n",
      "Training selesai\n"
     ]
    }
   ],
   "source": [
    "kf = KFold(n_splits=5, random_state=45, shuffle=True)\n",
    "\n",
    "mdl = []\n",
    "fold = []\n",
    "acc_scr = []\n",
    "rec_scr = []\n",
    "prc_scr = []\n",
    "f1_scr = []\n",
    "ra_scr = []\n",
    "\n",
    "for i, (train_index, test_index) in enumerate(kf.split(df_last_woe)):\n",
    "    train_set = df_last_woe.iloc[train_index,:]\n",
    "    test_set  = df_last_woe.iloc[test_index,:]\n",
    "    print('Fold: ', i+1)\n",
    "    \n",
    "    for clf in clf_list:\n",
    "        model = clf.__class__.__name__\n",
    "        X_train = pd.get_dummies(train_set[features])\n",
    "        y_train = train_set['serious_delinquency']\n",
    "        X_test = pd.get_dummies(test_set[features])\n",
    "        y_test = test_set['serious_delinquency']\n",
    "        \n",
    "        clf.fit(X_train, y_train) \n",
    "        y_pred = clf.predict(X_test)\n",
    "        \n",
    "        acc = accuracy_score(y_test, y_pred)\n",
    "        rec = recall_score(y_test, y_pred)\n",
    "        prc = precision_score(y_test, y_pred)\n",
    "        f1 = f1_score(y_test, y_pred)\n",
    "        ra = roc_auc_score(y_test, y_pred)\n",
    "        \n",
    "        fold.append(i+1)\n",
    "        acc_scr.append(acc)\n",
    "        rec_scr.append(rec)\n",
    "        prc_scr.append(prc)\n",
    "        f1_scr.append(f1)\n",
    "        ra_scr.append(ra)\n",
    "        mdl.append(model)\n",
    "        print(model)\n",
    "\n",
    "print('Training selesai')          "
   ]
  },
  {
   "cell_type": "code",
   "execution_count": null,
   "metadata": {
    "id": "1nttNMItf3Gu"
   },
   "outputs": [],
   "source": []
  },
  {
   "cell_type": "markdown",
   "metadata": {
    "id": "aUEphK9rf3Po"
   },
   "source": [
    "Plotting nilai accuracy, recall, precision, F1, dan ROC-AUC untuk masing-masing fold"
   ]
  },
  {
   "cell_type": "code",
   "execution_count": null,
   "metadata": {
    "id": "QCAhrJBHelzp"
   },
   "outputs": [],
   "source": [
    "df_score = pd.DataFrame({'Fold':fold, 'Accuracy Score':acc_scr,'Recall Score':rec_scr, 'Precision Score':prc_scr,\n",
    "                         'F1 Score':f1_scr, 'ROC-AUC Score':ra_scr})\n",
    "df_score_melt = df_score.melt('Fold', var_name='cols',  value_name='Score')"
   ]
  },
  {
   "cell_type": "code",
   "execution_count": null,
   "metadata": {
    "colab": {
     "base_uri": "https://localhost:8080/",
     "height": 530
    },
    "id": "xbhEsyxFcOwT",
    "outputId": "89bc1419-fa30-4a76-ac4a-a94529bb7502"
   },
   "outputs": [
    {
     "data": {
      "text/plain": [
       "<matplotlib.legend.Legend at 0x7f1a8a1bf590>"
      ]
     },
     "execution_count": 68,
     "metadata": {
      "tags": []
     },
     "output_type": "execute_result"
    },
    {
     "data": {
      "image/png": "[encoded data removed]",
      "text/plain": [
       "<Figure size 720x576 with 1 Axes>"
      ]
     },
     "metadata": {
      "needs_background": "light",
      "tags": []
     },
     "output_type": "display_data"
    }
   ],
   "source": [
    "plt.figure(figsize=(10,8))\n",
    "plt.title('Performance Score')\n",
    "sns.lineplot(x=\"Fold\", y=\"Score\", hue='cols', data=df_score_melt, style='cols', marker='o', dashes=False)\n",
    "plt.legend(bbox_to_anchor=(1.05, 1), loc=2, borderaxespad=0.)"
   ]
  },
  {
   "cell_type": "code",
   "execution_count": null,
   "metadata": {
    "colab": {
     "base_uri": "https://localhost:8080/"
    },
    "id": "w2TRNTFewDOW",
    "outputId": "743b0225-9eda-44b5-ed7a-726dadcbcfc2"
   },
   "outputs": [
    {
     "name": "stdout",
     "output_type": "stream",
     "text": [
      "              precision    recall  f1-score   support\n",
      "\n",
      "           0       0.98      0.80      0.88     26077\n",
      "           1       0.20      0.73      0.31      1728\n",
      "\n",
      "    accuracy                           0.80     27805\n",
      "   macro avg       0.59      0.76      0.59     27805\n",
      "weighted avg       0.93      0.80      0.85     27805\n",
      "\n"
     ]
    }
   ],
   "source": [
    "y_pred = reg.predict(X_test)\n",
    "print(classification_report(y_test, y_pred))"
   ]
  },
  {
   "cell_type": "code",
   "execution_count": null,
   "metadata": {
    "id": "bkbknOshGPQ0"
   },
   "outputs": [],
   "source": []
  },
  {
   "cell_type": "markdown",
   "metadata": {
    "id": "hZegjrtOlj-7"
   },
   "source": [
    "**Credit Scorecard**"
   ]
  },
  {
   "cell_type": "markdown",
   "metadata": {
    "id": "FyoESoQRgGUg"
   },
   "source": [
    "Pembuatan Scorecard untuk melakukan valuasi nilai credit masing-masing calon nasabah, menggunakan koefisien regresi logistik untuk masing-masing fitur."
   ]
  },
  {
   "cell_type": "code",
   "execution_count": null,
   "metadata": {
    "colab": {
     "base_uri": "https://localhost:8080/",
     "height": 111
    },
    "id": "eQbJT9ZKqc-T",
    "outputId": "17ed1e9f-71f6-45d8-c9b7-38fbd4400b2f"
   },
   "outputs": [
    {
     "data": {
      "text/html": [
       "<div>\n",
       "<style scoped>\n",
       "    .dataframe tbody tr th:only-of-type {\n",
       "        vertical-align: middle;\n",
       "    }\n",
       "\n",
       "    .dataframe tbody tr th {\n",
       "        vertical-align: top;\n",
       "    }\n",
       "\n",
       "    .dataframe thead th {\n",
       "        text-align: right;\n",
       "    }\n",
       "</style>\n",
       "<table border=\"1\" class=\"dataframe\">\n",
       "  <thead>\n",
       "    <tr style=\"text-align: right;\">\n",
       "      <th></th>\n",
       "      <th>Feature</th>\n",
       "      <th>Coefficient</th>\n",
       "      <th>Original feature name</th>\n",
       "    </tr>\n",
       "  </thead>\n",
       "  <tbody>\n",
       "    <tr>\n",
       "      <th>0</th>\n",
       "      <td>Intercept</td>\n",
       "      <td>3.527866</td>\n",
       "      <td>Intercept</td>\n",
       "    </tr>\n",
       "    <tr>\n",
       "      <th>1</th>\n",
       "      <td>Age_binned_A.30-40</td>\n",
       "      <td>0.333576</td>\n",
       "      <td>Age</td>\n",
       "    </tr>\n",
       "  </tbody>\n",
       "</table>\n",
       "</div>"
      ],
      "text/plain": [
       "              Feature  Coefficient Original feature name\n",
       "0           Intercept     3.527866             Intercept\n",
       "1  Age_binned_A.30-40     0.333576                   Age"
      ]
     },
     "execution_count": 70,
     "metadata": {
      "tags": []
     },
     "output_type": "execute_result"
    }
   ],
   "source": [
    "df_scorecard = pd.concat([pd.DataFrame(X_train.columns, columns=['Feature']),\n",
    "                          np.transpose(pd.DataFrame(reg.coef_))], axis=1).rename(columns={0:'Coefficient'})\n",
    "df_scorecard.loc[0] = ['Intercept', reg.intercept_[0]]   \n",
    "df_scorecard['Original feature name'] = df_scorecard['Feature'].str.split('_').str[0]                  \n",
    "df_scorecard.head(2)                  "
   ]
  },
  {
   "cell_type": "code",
   "execution_count": null,
   "metadata": {
    "id": "2HA-SH6J3f5D"
   },
   "outputs": [],
   "source": [
    "min_score = 300\n",
    "max_score = 850"
   ]
  },
  {
   "cell_type": "code",
   "execution_count": null,
   "metadata": {
    "id": "Jgx0pvXR3f72"
   },
   "outputs": [],
   "source": [
    "min_sum_coef = df_scorecard.groupby('Original feature name')['Coefficient'].min().sum()\n",
    "max_sum_coef = df_scorecard.groupby('Original feature name')['Coefficient'].max().sum()\n",
    "\n",
    "df_scorecard['Score - Calculation'] = df_scorecard['Coefficient'] * (max_score - min_score) / (max_sum_coef - min_sum_coef)\n",
    "df_scorecard.loc[0, 'Score - Calculation'] = ((df_scorecard.loc[0,'Coefficient'] - min_sum_coef) / (max_sum_coef - min_sum_coef)) * (max_score - min_score) + min_score\n",
    "df_scorecard['Score - Final'] = df_scorecard['Score - Calculation'].round()"
   ]
  },
  {
   "cell_type": "code",
   "execution_count": null,
   "metadata": {
    "colab": {
     "base_uri": "https://localhost:8080/",
     "height": 1000
    },
    "id": "PB2pTgAFmDQy",
    "outputId": "81614bfa-2138-4f58-ef37-87babfebafda"
   },
   "outputs": [
    {
     "data": {
      "text/html": [
       "<div>\n",
       "<style scoped>\n",
       "    .dataframe tbody tr th:only-of-type {\n",
       "        vertical-align: middle;\n",
       "    }\n",
       "\n",
       "    .dataframe tbody tr th {\n",
       "        vertical-align: top;\n",
       "    }\n",
       "\n",
       "    .dataframe thead th {\n",
       "        text-align: right;\n",
       "    }\n",
       "</style>\n",
       "<table border=\"1\" class=\"dataframe\">\n",
       "  <thead>\n",
       "    <tr style=\"text-align: right;\">\n",
       "      <th></th>\n",
       "      <th>Feature</th>\n",
       "      <th>Coefficient</th>\n",
       "      <th>Original feature name</th>\n",
       "      <th>Score - Calculation</th>\n",
       "      <th>Score - Final</th>\n",
       "    </tr>\n",
       "  </thead>\n",
       "  <tbody>\n",
       "    <tr>\n",
       "      <th>0</th>\n",
       "      <td>Intercept</td>\n",
       "      <td>3.527866</td>\n",
       "      <td>Intercept</td>\n",
       "      <td>629.712076</td>\n",
       "      <td>630.0</td>\n",
       "    </tr>\n",
       "    <tr>\n",
       "      <th>1</th>\n",
       "      <td>Age_binned_A.30-40</td>\n",
       "      <td>0.333576</td>\n",
       "      <td>Age</td>\n",
       "      <td>17.727751</td>\n",
       "      <td>18.0</td>\n",
       "    </tr>\n",
       "    <tr>\n",
       "      <th>2</th>\n",
       "      <td>Age_binned_A.40-50</td>\n",
       "      <td>0.190173</td>\n",
       "      <td>Age</td>\n",
       "      <td>10.106669</td>\n",
       "      <td>10.0</td>\n",
       "    </tr>\n",
       "    <tr>\n",
       "      <th>3</th>\n",
       "      <td>Age_binned_A.50-60</td>\n",
       "      <td>0.015090</td>\n",
       "      <td>Age</td>\n",
       "      <td>0.801971</td>\n",
       "      <td>1.0</td>\n",
       "    </tr>\n",
       "    <tr>\n",
       "      <th>4</th>\n",
       "      <td>Age_binned_A.60-70</td>\n",
       "      <td>-0.322192</td>\n",
       "      <td>Age</td>\n",
       "      <td>-17.122746</td>\n",
       "      <td>-17.0</td>\n",
       "    </tr>\n",
       "    <tr>\n",
       "      <th>5</th>\n",
       "      <td>Age_binned_A.70-80</td>\n",
       "      <td>-0.404409</td>\n",
       "      <td>Age</td>\n",
       "      <td>-21.492086</td>\n",
       "      <td>-21.0</td>\n",
       "    </tr>\n",
       "    <tr>\n",
       "      <th>6</th>\n",
       "      <td>Age_binned_A.80-90</td>\n",
       "      <td>-0.180823</td>\n",
       "      <td>Age</td>\n",
       "      <td>-9.609758</td>\n",
       "      <td>-10.0</td>\n",
       "    </tr>\n",
       "    <tr>\n",
       "      <th>7</th>\n",
       "      <td>Age_binned_A.90-130</td>\n",
       "      <td>-0.166010</td>\n",
       "      <td>Age</td>\n",
       "      <td>-8.822491</td>\n",
       "      <td>-9.0</td>\n",
       "    </tr>\n",
       "    <tr>\n",
       "      <th>8</th>\n",
       "      <td>RUUL_binned_RUUL.0-0.2</td>\n",
       "      <td>-0.921076</td>\n",
       "      <td>RUUL</td>\n",
       "      <td>-48.950095</td>\n",
       "      <td>-49.0</td>\n",
       "    </tr>\n",
       "    <tr>\n",
       "      <th>9</th>\n",
       "      <td>RUUL_binned_RUUL.0.2-0.4</td>\n",
       "      <td>-0.375408</td>\n",
       "      <td>RUUL</td>\n",
       "      <td>-19.950875</td>\n",
       "      <td>-20.0</td>\n",
       "    </tr>\n",
       "    <tr>\n",
       "      <th>10</th>\n",
       "      <td>RUUL_binned_RUUL.0.4-0.6</td>\n",
       "      <td>0.106412</td>\n",
       "      <td>RUUL</td>\n",
       "      <td>5.655207</td>\n",
       "      <td>6.0</td>\n",
       "    </tr>\n",
       "    <tr>\n",
       "      <th>11</th>\n",
       "      <td>RUUL_binned_RUUL.0.6-0.8</td>\n",
       "      <td>0.416970</td>\n",
       "      <td>RUUL</td>\n",
       "      <td>22.159632</td>\n",
       "      <td>22.0</td>\n",
       "    </tr>\n",
       "    <tr>\n",
       "      <th>12</th>\n",
       "      <td>RUUL_binned_RUUL.0.8-1</td>\n",
       "      <td>0.734501</td>\n",
       "      <td>RUUL</td>\n",
       "      <td>39.034655</td>\n",
       "      <td>39.0</td>\n",
       "    </tr>\n",
       "    <tr>\n",
       "      <th>13</th>\n",
       "      <td>Debt Ratio_binned_DR.0-0.2</td>\n",
       "      <td>-0.139519</td>\n",
       "      <td>Debt Ratio</td>\n",
       "      <td>-7.414685</td>\n",
       "      <td>-7.0</td>\n",
       "    </tr>\n",
       "    <tr>\n",
       "      <th>14</th>\n",
       "      <td>Debt Ratio_binned_DR.0.2-0.5</td>\n",
       "      <td>-0.161464</td>\n",
       "      <td>Debt Ratio</td>\n",
       "      <td>-8.580899</td>\n",
       "      <td>-9.0</td>\n",
       "    </tr>\n",
       "    <tr>\n",
       "      <th>15</th>\n",
       "      <td>Debt Ratio_binned_DR.0.5-1</td>\n",
       "      <td>0.249984</td>\n",
       "      <td>Debt Ratio</td>\n",
       "      <td>13.285287</td>\n",
       "      <td>13.0</td>\n",
       "    </tr>\n",
       "    <tr>\n",
       "      <th>16</th>\n",
       "      <td>Debt Ratio_binned_DR.1-2</td>\n",
       "      <td>0.672950</td>\n",
       "      <td>Debt Ratio</td>\n",
       "      <td>35.763575</td>\n",
       "      <td>36.0</td>\n",
       "    </tr>\n",
       "    <tr>\n",
       "      <th>17</th>\n",
       "      <td>Debt Ratio_binned_DR.2-5</td>\n",
       "      <td>0.366334</td>\n",
       "      <td>Debt Ratio</td>\n",
       "      <td>19.468612</td>\n",
       "      <td>19.0</td>\n",
       "    </tr>\n",
       "    <tr>\n",
       "      <th>18</th>\n",
       "      <td>Debt Ratio_binned_DR.5-10</td>\n",
       "      <td>-0.152536</td>\n",
       "      <td>Debt Ratio</td>\n",
       "      <td>-8.106435</td>\n",
       "      <td>-8.0</td>\n",
       "    </tr>\n",
       "    <tr>\n",
       "      <th>19</th>\n",
       "      <td>Debt Ratio_binned_DR.10-20</td>\n",
       "      <td>-0.481904</td>\n",
       "      <td>Debt Ratio</td>\n",
       "      <td>-25.610538</td>\n",
       "      <td>-26.0</td>\n",
       "    </tr>\n",
       "    <tr>\n",
       "      <th>20</th>\n",
       "      <td>Debt Ratio_binned_DR.20-50</td>\n",
       "      <td>-0.192283</td>\n",
       "      <td>Debt Ratio</td>\n",
       "      <td>-10.218788</td>\n",
       "      <td>-10.0</td>\n",
       "    </tr>\n",
       "    <tr>\n",
       "      <th>21</th>\n",
       "      <td>Debt Ratio_binned_DR.50-100</td>\n",
       "      <td>-0.013605</td>\n",
       "      <td>Debt Ratio</td>\n",
       "      <td>-0.723023</td>\n",
       "      <td>-1.0</td>\n",
       "    </tr>\n",
       "    <tr>\n",
       "      <th>22</th>\n",
       "      <td>Debt Ratio_binned_DR.&gt;100</td>\n",
       "      <td>-0.186559</td>\n",
       "      <td>Debt Ratio</td>\n",
       "      <td>-9.914582</td>\n",
       "      <td>-10.0</td>\n",
       "    </tr>\n",
       "    <tr>\n",
       "      <th>23</th>\n",
       "      <td>Open Loans_binned_OPEN.0</td>\n",
       "      <td>0.524409</td>\n",
       "      <td>Open Loans</td>\n",
       "      <td>27.869466</td>\n",
       "      <td>28.0</td>\n",
       "    </tr>\n",
       "    <tr>\n",
       "      <th>24</th>\n",
       "      <td>Open Loans_binned_OPEN.1</td>\n",
       "      <td>0.131867</td>\n",
       "      <td>Open Loans</td>\n",
       "      <td>7.008017</td>\n",
       "      <td>7.0</td>\n",
       "    </tr>\n",
       "    <tr>\n",
       "      <th>25</th>\n",
       "      <td>Open Loans_binned_OPEN.2</td>\n",
       "      <td>-0.090709</td>\n",
       "      <td>Open Loans</td>\n",
       "      <td>-4.820682</td>\n",
       "      <td>-5.0</td>\n",
       "    </tr>\n",
       "    <tr>\n",
       "      <th>26</th>\n",
       "      <td>Open Loans_binned_OPEN.3</td>\n",
       "      <td>-0.154718</td>\n",
       "      <td>Open Loans</td>\n",
       "      <td>-8.222390</td>\n",
       "      <td>-8.0</td>\n",
       "    </tr>\n",
       "    <tr>\n",
       "      <th>27</th>\n",
       "      <td>Open Loans_binned_OPEN.4</td>\n",
       "      <td>-0.240420</td>\n",
       "      <td>Open Loans</td>\n",
       "      <td>-12.776977</td>\n",
       "      <td>-13.0</td>\n",
       "    </tr>\n",
       "    <tr>\n",
       "      <th>28</th>\n",
       "      <td>Open Loans_binned_OPEN.5</td>\n",
       "      <td>-0.243298</td>\n",
       "      <td>Open Loans</td>\n",
       "      <td>-12.929927</td>\n",
       "      <td>-13.0</td>\n",
       "    </tr>\n",
       "    <tr>\n",
       "      <th>29</th>\n",
       "      <td>Open Loans_binned_OPEN.6</td>\n",
       "      <td>-0.142722</td>\n",
       "      <td>Open Loans</td>\n",
       "      <td>-7.584913</td>\n",
       "      <td>-8.0</td>\n",
       "    </tr>\n",
       "    <tr>\n",
       "      <th>30</th>\n",
       "      <td>Open Loans_binned_OPEN.7</td>\n",
       "      <td>-0.132204</td>\n",
       "      <td>Open Loans</td>\n",
       "      <td>-7.025905</td>\n",
       "      <td>-7.0</td>\n",
       "    </tr>\n",
       "    <tr>\n",
       "      <th>31</th>\n",
       "      <td>Open Loans_binned_OPEN.8</td>\n",
       "      <td>-0.224751</td>\n",
       "      <td>Open Loans</td>\n",
       "      <td>-11.944264</td>\n",
       "      <td>-12.0</td>\n",
       "    </tr>\n",
       "    <tr>\n",
       "      <th>32</th>\n",
       "      <td>Open Loans_binned_OPEN.9</td>\n",
       "      <td>0.146054</td>\n",
       "      <td>Open Loans</td>\n",
       "      <td>7.761986</td>\n",
       "      <td>8.0</td>\n",
       "    </tr>\n",
       "    <tr>\n",
       "      <th>33</th>\n",
       "      <td>Open Loans_binned_OPEN.10</td>\n",
       "      <td>0.087877</td>\n",
       "      <td>Open Loans</td>\n",
       "      <td>4.670186</td>\n",
       "      <td>5.0</td>\n",
       "    </tr>\n",
       "    <tr>\n",
       "      <th>34</th>\n",
       "      <td>Open Loans_binned_OPEN.&gt;10</td>\n",
       "      <td>0.300011</td>\n",
       "      <td>Open Loans</td>\n",
       "      <td>15.943928</td>\n",
       "      <td>16.0</td>\n",
       "    </tr>\n",
       "    <tr>\n",
       "      <th>35</th>\n",
       "      <td>Late 30-59 Days_binned_LATE30.0</td>\n",
       "      <td>-1.294174</td>\n",
       "      <td>Late 30-59 Days</td>\n",
       "      <td>-68.778195</td>\n",
       "      <td>-69.0</td>\n",
       "    </tr>\n",
       "    <tr>\n",
       "      <th>36</th>\n",
       "      <td>Late 30-59 Days_binned_LATE30.1</td>\n",
       "      <td>-0.409447</td>\n",
       "      <td>Late 30-59 Days</td>\n",
       "      <td>-21.759828</td>\n",
       "      <td>-22.0</td>\n",
       "    </tr>\n",
       "    <tr>\n",
       "      <th>37</th>\n",
       "      <td>Late 30-59 Days_binned_LATE30.2</td>\n",
       "      <td>0.102753</td>\n",
       "      <td>Late 30-59 Days</td>\n",
       "      <td>5.460738</td>\n",
       "      <td>5.0</td>\n",
       "    </tr>\n",
       "    <tr>\n",
       "      <th>38</th>\n",
       "      <td>Late 30-59 Days_binned_LATE30.3</td>\n",
       "      <td>0.241966</td>\n",
       "      <td>Late 30-59 Days</td>\n",
       "      <td>12.859172</td>\n",
       "      <td>13.0</td>\n",
       "    </tr>\n",
       "    <tr>\n",
       "      <th>39</th>\n",
       "      <td>Late 30-59 Days_binned_LATE30.4</td>\n",
       "      <td>0.520807</td>\n",
       "      <td>Late 30-59 Days</td>\n",
       "      <td>27.678023</td>\n",
       "      <td>28.0</td>\n",
       "    </tr>\n",
       "    <tr>\n",
       "      <th>40</th>\n",
       "      <td>Late 30-59 Days_binned_LATE30.5</td>\n",
       "      <td>0.338406</td>\n",
       "      <td>Late 30-59 Days</td>\n",
       "      <td>17.984437</td>\n",
       "      <td>18.0</td>\n",
       "    </tr>\n",
       "    <tr>\n",
       "      <th>41</th>\n",
       "      <td>Late 30-59 Days_binned_LATE30.&gt;5</td>\n",
       "      <td>0.461086</td>\n",
       "      <td>Late 30-59 Days</td>\n",
       "      <td>24.504178</td>\n",
       "      <td>25.0</td>\n",
       "    </tr>\n",
       "    <tr>\n",
       "      <th>42</th>\n",
       "      <td>Late 60-89 Days_binned_LATE60.0</td>\n",
       "      <td>-0.956080</td>\n",
       "      <td>Late 60-89 Days</td>\n",
       "      <td>-50.810372</td>\n",
       "      <td>-51.0</td>\n",
       "    </tr>\n",
       "    <tr>\n",
       "      <th>43</th>\n",
       "      <td>Late 60-89 Days_binned_LATE60.1</td>\n",
       "      <td>0.312448</td>\n",
       "      <td>Late 60-89 Days</td>\n",
       "      <td>16.604872</td>\n",
       "      <td>17.0</td>\n",
       "    </tr>\n",
       "    <tr>\n",
       "      <th>44</th>\n",
       "      <td>Late 60-89 Days_binned_LATE60.2</td>\n",
       "      <td>0.721014</td>\n",
       "      <td>Late 60-89 Days</td>\n",
       "      <td>38.317918</td>\n",
       "      <td>38.0</td>\n",
       "    </tr>\n",
       "    <tr>\n",
       "      <th>45</th>\n",
       "      <td>Late 60-89 Days_binned_LATE60.3</td>\n",
       "      <td>0.789663</td>\n",
       "      <td>Late 60-89 Days</td>\n",
       "      <td>41.966208</td>\n",
       "      <td>42.0</td>\n",
       "    </tr>\n",
       "    <tr>\n",
       "      <th>46</th>\n",
       "      <td>Late 60-89 Days_binned_LATE60.4</td>\n",
       "      <td>-0.320002</td>\n",
       "      <td>Late 60-89 Days</td>\n",
       "      <td>-17.006347</td>\n",
       "      <td>-17.0</td>\n",
       "    </tr>\n",
       "    <tr>\n",
       "      <th>47</th>\n",
       "      <td>Late 60-89 Days_binned_LATE60.5</td>\n",
       "      <td>-0.460265</td>\n",
       "      <td>Late 60-89 Days</td>\n",
       "      <td>-24.460553</td>\n",
       "      <td>-24.0</td>\n",
       "    </tr>\n",
       "    <tr>\n",
       "      <th>48</th>\n",
       "      <td>Late 60-89 Days_binned_LATE60.&gt;5</td>\n",
       "      <td>-0.125379</td>\n",
       "      <td>Late 60-89 Days</td>\n",
       "      <td>-6.663200</td>\n",
       "      <td>-7.0</td>\n",
       "    </tr>\n",
       "    <tr>\n",
       "      <th>49</th>\n",
       "      <td>Late 90 Days_binned_LATE90.0</td>\n",
       "      <td>-1.903130</td>\n",
       "      <td>Late 90 Days</td>\n",
       "      <td>-101.140863</td>\n",
       "      <td>-101.0</td>\n",
       "    </tr>\n",
       "    <tr>\n",
       "      <th>50</th>\n",
       "      <td>Late 90 Days_binned_LATE90.1</td>\n",
       "      <td>-0.264744</td>\n",
       "      <td>Late 90 Days</td>\n",
       "      <td>-14.069673</td>\n",
       "      <td>-14.0</td>\n",
       "    </tr>\n",
       "    <tr>\n",
       "      <th>51</th>\n",
       "      <td>Late 90 Days_binned_LATE90.2</td>\n",
       "      <td>0.246125</td>\n",
       "      <td>Late 90 Days</td>\n",
       "      <td>13.080207</td>\n",
       "      <td>13.0</td>\n",
       "    </tr>\n",
       "    <tr>\n",
       "      <th>52</th>\n",
       "      <td>Late 90 Days_binned_LATE90.3</td>\n",
       "      <td>0.393184</td>\n",
       "      <td>Late 90 Days</td>\n",
       "      <td>20.895561</td>\n",
       "      <td>21.0</td>\n",
       "    </tr>\n",
       "    <tr>\n",
       "      <th>53</th>\n",
       "      <td>Late 90 Days_binned_LATE90.4</td>\n",
       "      <td>0.354542</td>\n",
       "      <td>Late 90 Days</td>\n",
       "      <td>18.841942</td>\n",
       "      <td>19.0</td>\n",
       "    </tr>\n",
       "    <tr>\n",
       "      <th>54</th>\n",
       "      <td>Late 90 Days_binned_LATE90.5</td>\n",
       "      <td>0.569170</td>\n",
       "      <td>Late 90 Days</td>\n",
       "      <td>30.248247</td>\n",
       "      <td>30.0</td>\n",
       "    </tr>\n",
       "    <tr>\n",
       "      <th>55</th>\n",
       "      <td>Late 90 Days_binned_LATE90.&gt;5</td>\n",
       "      <td>0.566251</td>\n",
       "      <td>Late 90 Days</td>\n",
       "      <td>30.093102</td>\n",
       "      <td>30.0</td>\n",
       "    </tr>\n",
       "  </tbody>\n",
       "</table>\n",
       "</div>"
      ],
      "text/plain": [
       "                             Feature  ...  Score - Final\n",
       "0                          Intercept  ...          630.0\n",
       "1                 Age_binned_A.30-40  ...           18.0\n",
       "2                 Age_binned_A.40-50  ...           10.0\n",
       "3                 Age_binned_A.50-60  ...            1.0\n",
       "4                 Age_binned_A.60-70  ...          -17.0\n",
       "5                 Age_binned_A.70-80  ...          -21.0\n",
       "6                 Age_binned_A.80-90  ...          -10.0\n",
       "7                Age_binned_A.90-130  ...           -9.0\n",
       "8             RUUL_binned_RUUL.0-0.2  ...          -49.0\n",
       "9           RUUL_binned_RUUL.0.2-0.4  ...          -20.0\n",
       "10          RUUL_binned_RUUL.0.4-0.6  ...            6.0\n",
       "11          RUUL_binned_RUUL.0.6-0.8  ...           22.0\n",
       "12            RUUL_binned_RUUL.0.8-1  ...           39.0\n",
       "13        Debt Ratio_binned_DR.0-0.2  ...           -7.0\n",
       "14      Debt Ratio_binned_DR.0.2-0.5  ...           -9.0\n",
       "15        Debt Ratio_binned_DR.0.5-1  ...           13.0\n",
       "16          Debt Ratio_binned_DR.1-2  ...           36.0\n",
       "17          Debt Ratio_binned_DR.2-5  ...           19.0\n",
       "18         Debt Ratio_binned_DR.5-10  ...           -8.0\n",
       "19        Debt Ratio_binned_DR.10-20  ...          -26.0\n",
       "20        Debt Ratio_binned_DR.20-50  ...          -10.0\n",
       "21       Debt Ratio_binned_DR.50-100  ...           -1.0\n",
       "22         Debt Ratio_binned_DR.>100  ...          -10.0\n",
       "23          Open Loans_binned_OPEN.0  ...           28.0\n",
       "24          Open Loans_binned_OPEN.1  ...            7.0\n",
       "25          Open Loans_binned_OPEN.2  ...           -5.0\n",
       "26          Open Loans_binned_OPEN.3  ...           -8.0\n",
       "27          Open Loans_binned_OPEN.4  ...          -13.0\n",
       "28          Open Loans_binned_OPEN.5  ...          -13.0\n",
       "29          Open Loans_binned_OPEN.6  ...           -8.0\n",
       "30          Open Loans_binned_OPEN.7  ...           -7.0\n",
       "31          Open Loans_binned_OPEN.8  ...          -12.0\n",
       "32          Open Loans_binned_OPEN.9  ...            8.0\n",
       "33         Open Loans_binned_OPEN.10  ...            5.0\n",
       "34        Open Loans_binned_OPEN.>10  ...           16.0\n",
       "35   Late 30-59 Days_binned_LATE30.0  ...          -69.0\n",
       "36   Late 30-59 Days_binned_LATE30.1  ...          -22.0\n",
       "37   Late 30-59 Days_binned_LATE30.2  ...            5.0\n",
       "38   Late 30-59 Days_binned_LATE30.3  ...           13.0\n",
       "39   Late 30-59 Days_binned_LATE30.4  ...           28.0\n",
       "40   Late 30-59 Days_binned_LATE30.5  ...           18.0\n",
       "41  Late 30-59 Days_binned_LATE30.>5  ...           25.0\n",
       "42   Late 60-89 Days_binned_LATE60.0  ...          -51.0\n",
       "43   Late 60-89 Days_binned_LATE60.1  ...           17.0\n",
       "44   Late 60-89 Days_binned_LATE60.2  ...           38.0\n",
       "45   Late 60-89 Days_binned_LATE60.3  ...           42.0\n",
       "46   Late 60-89 Days_binned_LATE60.4  ...          -17.0\n",
       "47   Late 60-89 Days_binned_LATE60.5  ...          -24.0\n",
       "48  Late 60-89 Days_binned_LATE60.>5  ...           -7.0\n",
       "49      Late 90 Days_binned_LATE90.0  ...         -101.0\n",
       "50      Late 90 Days_binned_LATE90.1  ...          -14.0\n",
       "51      Late 90 Days_binned_LATE90.2  ...           13.0\n",
       "52      Late 90 Days_binned_LATE90.3  ...           21.0\n",
       "53      Late 90 Days_binned_LATE90.4  ...           19.0\n",
       "54      Late 90 Days_binned_LATE90.5  ...           30.0\n",
       "55     Late 90 Days_binned_LATE90.>5  ...           30.0\n",
       "\n",
       "[56 rows x 5 columns]"
      ]
     },
     "execution_count": 73,
     "metadata": {
      "tags": []
     },
     "output_type": "execute_result"
    }
   ],
   "source": [
    "df_scorecard"
   ]
  },
  {
   "cell_type": "code",
   "execution_count": null,
   "metadata": {
    "colab": {
     "base_uri": "https://localhost:8080/"
    },
    "id": "ufPkSAJE36Mp",
    "outputId": "d2dd0ee3-1711-4e8c-fa71-d39e025c53c5"
   },
   "outputs": [
    {
     "name": "stdout",
     "output_type": "stream",
     "text": [
      "300.0\n",
      "851.0\n"
     ]
    }
   ],
   "source": [
    "min_sum_score_prel = df_scorecard.groupby('Original feature name')['Score - Final'].min().sum()\n",
    "max_sum_score_prel = df_scorecard.groupby('Original feature name')['Score - Final'].max().sum()\n",
    "print(min_sum_score_prel)\n",
    "print(max_sum_score_prel)"
   ]
  },
  {
   "cell_type": "code",
   "execution_count": null,
   "metadata": {
    "colab": {
     "base_uri": "https://localhost:8080/"
    },
    "id": "89f9uD7t485b",
    "outputId": "64d92f0e-3212-4f91-f161-6c6352313f9d"
   },
   "outputs": [
    {
     "name": "stdout",
     "output_type": "stream",
     "text": [
      "(56, 1)\n",
      "(27805, 56)\n"
     ]
    }
   ],
   "source": [
    "scorecard_scores = df_scorecard['Score - Final']\n",
    "scorecard_scores = scorecard_scores.values.reshape(56, 1)\n",
    "print(scorecard_scores.shape)\n",
    "print(X_test.shape)"
   ]
  },
  {
   "cell_type": "markdown",
   "metadata": {
    "id": "ovLFdz2Mgw_g"
   },
   "source": [
    "Perkalian dot-product antara masing-masing data pada X_test dengan kolom scorecard"
   ]
  },
  {
   "cell_type": "code",
   "execution_count": null,
   "metadata": {
    "colab": {
     "base_uri": "https://localhost:8080/",
     "height": 359
    },
    "id": "L10l-Ii536Pe",
    "outputId": "076235dc-e254-4265-879c-18f4309f38df"
   },
   "outputs": [
    {
     "data": {
      "text/html": [
       "<div>\n",
       "<style scoped>\n",
       "    .dataframe tbody tr th:only-of-type {\n",
       "        vertical-align: middle;\n",
       "    }\n",
       "\n",
       "    .dataframe tbody tr th {\n",
       "        vertical-align: top;\n",
       "    }\n",
       "\n",
       "    .dataframe thead th {\n",
       "        text-align: right;\n",
       "    }\n",
       "</style>\n",
       "<table border=\"1\" class=\"dataframe\">\n",
       "  <thead>\n",
       "    <tr style=\"text-align: right;\">\n",
       "      <th></th>\n",
       "      <th>Credit Score</th>\n",
       "    </tr>\n",
       "  </thead>\n",
       "  <tbody>\n",
       "    <tr>\n",
       "      <th>134483</th>\n",
       "      <td>630.0</td>\n",
       "    </tr>\n",
       "    <tr>\n",
       "      <th>77361</th>\n",
       "      <td>-182.0</td>\n",
       "    </tr>\n",
       "    <tr>\n",
       "      <th>16918</th>\n",
       "      <td>-196.0</td>\n",
       "    </tr>\n",
       "    <tr>\n",
       "      <th>60525</th>\n",
       "      <td>-272.0</td>\n",
       "    </tr>\n",
       "    <tr>\n",
       "      <th>84816</th>\n",
       "      <td>-217.0</td>\n",
       "    </tr>\n",
       "    <tr>\n",
       "      <th>130618</th>\n",
       "      <td>-243.0</td>\n",
       "    </tr>\n",
       "    <tr>\n",
       "      <th>141025</th>\n",
       "      <td>-213.0</td>\n",
       "    </tr>\n",
       "    <tr>\n",
       "      <th>25906</th>\n",
       "      <td>-241.0</td>\n",
       "    </tr>\n",
       "    <tr>\n",
       "      <th>116247</th>\n",
       "      <td>-287.0</td>\n",
       "    </tr>\n",
       "    <tr>\n",
       "      <th>14656</th>\n",
       "      <td>-87.0</td>\n",
       "    </tr>\n",
       "  </tbody>\n",
       "</table>\n",
       "</div>"
      ],
      "text/plain": [
       "        Credit Score\n",
       "134483         630.0\n",
       "77361         -182.0\n",
       "16918         -196.0\n",
       "60525         -272.0\n",
       "84816         -217.0\n",
       "130618        -243.0\n",
       "141025        -213.0\n",
       "25906         -241.0\n",
       "116247        -287.0\n",
       "14656          -87.0"
      ]
     },
     "execution_count": 78,
     "metadata": {
      "tags": []
     },
     "output_type": "execute_result"
    }
   ],
   "source": [
    "X_test_credit_score = X_test.dot(scorecard_scores).rename(columns={0:'Credit Score'})\n",
    "X_test_credit_score.sample(10)"
   ]
  },
  {
   "cell_type": "code",
   "execution_count": null,
   "metadata": {
    "id": "FJ2nPkRWlmkz"
   },
   "outputs": [],
   "source": []
  },
  {
   "cell_type": "code",
   "execution_count": null,
   "metadata": {
    "id": "xbyY3PcgqAzC"
   },
   "outputs": [],
   "source": []
  }
 ],
 "metadata": {
  "colab": {
   "collapsed_sections": [],
   "machine_shape": "hm",
   "name": "Credit Scoring.ipynb",
   "provenance": []
  },
  "kernelspec": {
   "display_name": "Python 3",
   "language": "python",
   "name": "python3"
  },
  "language_info": {
   "codemirror_mode": {
    "name": "ipython",
    "version": 3
   },
   "file_extension": ".py",
   "mimetype": "text/x-python",
   "name": "python",
   "nbconvert_exporter": "python",
   "pygments_lexer": "ipython3",
   "version": "3.8.8"
  }
 },
 "nbformat": 4,
 "nbformat_minor": 1
}
